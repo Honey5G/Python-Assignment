{
  "nbformat": 4,
  "nbformat_minor": 0,
  "metadata": {
    "colab": {
      "provenance": []
    },
    "kernelspec": {
      "name": "python3",
      "display_name": "Python 3"
    },
    "language_info": {
      "name": "python"
    }
  },
  "cells": [
    {
      "cell_type": "markdown",
      "source": [
        "Oues. 1 What are data structures, and why are they important?\n",
        "   \n",
        "    Ans:   Data structures are ways of organizing and storing data to perform operations efficiently. They are important because they allow programmers to manage and manipulate data in optimal ways depending on the problem."
      ],
      "metadata": {
        "id": "oJyUnEa0Upfi"
      }
    },
    {
      "cell_type": "markdown",
      "source": [
        "Ques.2  Explain the difference between mutable and immutable data types with examples?\n",
        "\n",
        "Ans:  Mutable: Can be changed after creation.\n",
        "Example: list, dict, set\n"
      ],
      "metadata": {
        "id": "0wrg2jETVbya"
      }
    },
    {
      "cell_type": "code",
      "source": [
        "my_list = [1, 2, 3]\n",
        "my_list[0] = 10  # This is allowed\n"
      ],
      "metadata": {
        "id": "_lP7_Ka_WGJ_"
      },
      "execution_count": 1,
      "outputs": []
    },
    {
      "cell_type": "markdown",
      "source": [
        "Immutable: Cannot be changed after creation.\n",
        "Example: int, float, str, tuple\n"
      ],
      "metadata": {
        "id": "6P5rsJSpWNUv"
      }
    },
    {
      "cell_type": "code",
      "source": [
        "my_str = \"hello\"\n",
        "# my_str[0] = \"H\"  # This will cause an error\n"
      ],
      "metadata": {
        "id": "_eo1B-NnWUa-"
      },
      "execution_count": null,
      "outputs": []
    },
    {
      "cell_type": "markdown",
      "source": [
        "Ques.3 What are the main differences between lists and tuples in Python?\n",
        "\n",
        "Ans:\n",
        "       The main differences between lists and tuples in Python are as follows:\n",
        "\n",
        "       \n",
        "       Tuples: are generally more memory-efficient and perform slightly faster than lists, especially when dealing with a large number of elements or when used as dictionary keys (due to their immutability).\n",
        "Lists: can be slower due to the overhead of supporting mutability (e.g., dynamic resizing)."
      ],
      "metadata": {
        "id": "qLqft-_IWcXe"
      }
    },
    {
      "cell_type": "markdown",
      "source": [
        "Ques.4 Describe how dictionaries store data?\n",
        "\n",
        "Ans:  Dictionaries store data in key-value pairs. Each key must be unique and is used to access the corresponding value. Internally, dictionaries use a hash table for fast lookup."
      ],
      "metadata": {
        "id": "H4nSWEH-XYYk"
      }
    },
    {
      "cell_type": "code",
      "source": [
        "person = {\"name\": \"Alice\", \"age\": 30}"
      ],
      "metadata": {
        "id": "tmrluAX5X0JW"
      },
      "execution_count": 2,
      "outputs": []
    },
    {
      "cell_type": "markdown",
      "source": [
        "Ques.5 Why might you use a set instead of a list in Python?\n",
        "\n",
        "Ans: Sets are used when:\n",
        "\n",
        "You need unique elements (they remove duplicates automatically).\n",
        "\n",
        "You want fast membership tests using \"in\"."
      ],
      "metadata": {
        "id": "TV8YOHcPX5e-"
      }
    },
    {
      "cell_type": "markdown",
      "source": [
        "Ques.6  What is a string in Python, and how is it different from a list?\n",
        "  \n",
        "  Ans:  A string is a sequence of characters and is immutable.\n",
        "\n",
        "A list is a sequence of items (any data type) and is mutable."
      ],
      "metadata": {
        "id": "b6LAwSvcYX66"
      }
    },
    {
      "cell_type": "code",
      "source": [
        "s = \"hello\"      # string\n",
        "l = ['h', 'e']   # list"
      ],
      "metadata": {
        "id": "EWp0hZ2BYuwG"
      },
      "execution_count": null,
      "outputs": []
    },
    {
      "cell_type": "markdown",
      "source": [
        "Ques.7 How do tuples ensure data integrity in Python?\n",
        "\n",
        "Ans: Since tuples are immutable, their contents cannot be changed after creation. This ensures that data remains constant and protected from accidental modifications."
      ],
      "metadata": {
        "id": "Yq8WhlwrYxIr"
      }
    },
    {
      "cell_type": "markdown",
      "source": [
        "Ques.8 What is a hash table, and how does it relate to dictionaries in Python?\n",
        "\n",
        "Ans:  A hash table is a data structure that maps keys to values using a hash function.\n",
        "Python dictionaries are built on hash tables for fast key-based access."
      ],
      "metadata": {
        "id": "2PjhOVUQZ0RX"
      }
    },
    {
      "cell_type": "markdown",
      "source": [
        "Ques. 9 Can lists contain different data types in Python?\n",
        "\n",
        " Ans:  \n",
        "      Yes, Python lists can contain elements of mixed data types.\n",
        "\n"
      ],
      "metadata": {
        "id": "DJLfvo3saGfd"
      }
    },
    {
      "cell_type": "code",
      "source": [
        "mixed = [1, \"hello\", 3.14, True]"
      ],
      "metadata": {
        "id": "mFKHNha-aeUm"
      },
      "execution_count": null,
      "outputs": []
    },
    {
      "cell_type": "markdown",
      "source": [
        "Ques. 10 Explain why strings are immutable in Python?\n",
        "\n",
        " Ans:   Strings are immutable to:\n",
        "\n",
        "Improve performance and memory efficiency.\n",
        "\n",
        "Ensure consistent hashing for keys in dictionaries.\n",
        "\n",
        "Prevent accidental changes in multi-threaded environments."
      ],
      "metadata": {
        "id": "ktOw27TvaifU"
      }
    },
    {
      "cell_type": "markdown",
      "source": [
        "Ques.11 What advantages do dictionaries offer over lists for certain tasks?\n",
        "\n",
        "Ans: Fast lookup using keys (O(1)).\n",
        "\n",
        "More meaningful data structure using key-value pairs.\n",
        "\n",
        "Useful for mapping and organizing"
      ],
      "metadata": {
        "id": "PO5NQvZUa2rL"
      }
    },
    {
      "cell_type": "markdown",
      "source": [
        "Ques. 12  Describe a scenario where using a tuple would be preferable over a list?\n",
        " Ans:  \n",
        "      When you need a constant set of values that should not change:\n",
        "\n",
        "Example: Returning coordinates from a function.\n"
      ],
      "metadata": {
        "id": "CnzIt9lobKiF"
      }
    },
    {
      "cell_type": "code",
      "source": [
        "def get_point():\n",
        "    return (10, 20)  # Use tuple"
      ],
      "metadata": {
        "id": "KOAOvDgHbgbx"
      },
      "execution_count": null,
      "outputs": []
    },
    {
      "cell_type": "markdown",
      "source": [
        "Ques. 13 How do sets handle duplicate values in Python?\n",
        "\n",
        "Ans:  Sets automatically remove duplicate values.\n"
      ],
      "metadata": {
        "id": "bW4qhASWbkrK"
      }
    },
    {
      "cell_type": "code",
      "source": [
        "s = set([1, 2, 2, 3])\n",
        "print(s)  # Output: {1, 2, 3}"
      ],
      "metadata": {
        "colab": {
          "base_uri": "https://localhost:8080/"
        },
        "id": "DVP-xG7Nb4HZ",
        "outputId": "d45b8879-c667-4e91-c4b7-9233122b197b"
      },
      "execution_count": 3,
      "outputs": [
        {
          "output_type": "stream",
          "name": "stdout",
          "text": [
            "{1, 2, 3}\n"
          ]
        }
      ]
    },
    {
      "cell_type": "markdown",
      "source": [
        "Ques.14 How does the “in” keyword work differently for lists and dictionaries?\n",
        "\n",
        "Ans:  In lists, \"in\" checks for the presence of a value.\n",
        "\n",
        "In dictionaries, \"in\" checks for the presence of a key.\n"
      ],
      "metadata": {
        "id": "t45BDlSuVSPb"
      }
    },
    {
      "cell_type": "code",
      "source": [
        "lst = [1, 2, 3]\n",
        "print(2 in lst)  # True\n",
        "\n",
        "d = {\"a\": 1}\n",
        "print(\"a\" in d)  # True (key check)"
      ],
      "metadata": {
        "colab": {
          "base_uri": "https://localhost:8080/"
        },
        "id": "UslzMHdRcLeH",
        "outputId": "5b418871-3faf-4f69-900d-e474c2309c71"
      },
      "execution_count": 4,
      "outputs": [
        {
          "output_type": "stream",
          "name": "stdout",
          "text": [
            "True\n",
            "True\n"
          ]
        }
      ]
    },
    {
      "cell_type": "markdown",
      "source": [
        "Ques. 15 Can you modify the elements of a tuple? Explain why or why not?\n",
        "\n",
        "Ans:  No, tuples are immutable, so their elements cannot be modified after creation.\n",
        "\n",
        "t = (1, 2, 3)\n",
        "# t[0] = 10  # Error: 'tuple' object does not support item assignment"
      ],
      "metadata": {
        "id": "rDjhF4PMcOTi"
      }
    },
    {
      "cell_type": "markdown",
      "source": [
        "Ques. 16 What is a nested dictionary, and give an example of its use case?\n",
        "\n",
        "Ans:  A nested Dictionary is a dictionary that contains another dictionary as its value.   FOR EXAMPLE:"
      ],
      "metadata": {
        "id": "Q9ukwZITcfBX"
      }
    },
    {
      "cell_type": "code",
      "source": [
        "student = {\n",
        "    \"name\": \"Neha\",\n",
        "    \"marks\": {\n",
        "        \"math\": 90,\n",
        "        \"science\": 85\n",
        "    }\n",
        "}\n",
        "print(student[\"marks\"][\"math\"])  # Output: 90"
      ],
      "metadata": {
        "colab": {
          "base_uri": "https://localhost:8080/"
        },
        "id": "xB6wa455eDt7",
        "outputId": "c28ca837-780f-43bd-c70f-17edcaeb76d5"
      },
      "execution_count": 5,
      "outputs": [
        {
          "output_type": "stream",
          "name": "stdout",
          "text": [
            "90\n"
          ]
        }
      ]
    },
    {
      "cell_type": "markdown",
      "source": [
        "Ques. 17 Describe the time complexity of accessing elements in a dictionary?\n",
        "\n",
        "Ans: Accessing elements in a dictionary using a key has a time complexity of O(1) (constant time), because dictionaries in Python use hash tables for storage."
      ],
      "metadata": {
        "id": "zIBwUxnaclzD"
      }
    },
    {
      "cell_type": "markdown",
      "source": [
        "Ques. 18 In what situations are lists preferred over dictionaries?\n",
        "\n",
        "Ans:  Lists are preferred when:\n",
        "\n",
        "The data is ordered.\n",
        "\n",
        "Access is done using index numbers.\n",
        "\n",
        "You only need to store values, not key-value pairs."
      ],
      "metadata": {
        "id": "zkOOS5hjewUS"
      }
    },
    {
      "cell_type": "markdown",
      "source": [
        "Ques. 19 Why are dictionaries considered unordered, and how does that affect data retrieval?\n",
        "\n",
        "Ans: Before Python 3.7, dictionaries were considered unordered, meaning the order of items was not guaranteed.\n",
        "From Python 3.7 onward, they maintain insertion order, but they are still key-based and not index-based."
      ],
      "metadata": {
        "id": "nzmpJwW5e_Zg"
      }
    },
    {
      "cell_type": "markdown",
      "source": [
        "Ques.20 Explain the difference between a list and a dictionary in terms of data retrieval?\n",
        "\n",
        "Ans: Access by\tIndex (0, 1, 2...)\tKey (e.g., \"name\", \"age\")\n",
        "Retrieval Speed\tSlower if searching (O(n))\tFaster via key lookup (O(1))\n",
        "Use Case\tOrdered values\tKey-value pairs\n",
        "\n",
        "\n",
        "📌 Example:\n",
        "\n",
        "# List\n",
        "data = [10, 20, 30]\n",
        "print(data[1])  # Output: 20\n",
        "\n",
        "# Dictionary\n",
        "info = {\"name\": \"Neha\", \"a\n"
      ],
      "metadata": {
        "id": "hE0HnoYGfLHa"
      }
    },
    {
      "cell_type": "markdown",
      "source": [
        "PRACTICAL BASED QUESTIONS:"
      ],
      "metadata": {
        "id": "YREaEm0Yfv3Z"
      }
    },
    {
      "cell_type": "markdown",
      "source": [
        "Ques.1 Write a code to create a string with your name and print it?\n"
      ],
      "metadata": {
        "id": "HsOLuzqff3eT"
      }
    },
    {
      "cell_type": "code",
      "source": [
        "name= {\"neha\"}\n",
        "print(name)"
      ],
      "metadata": {
        "colab": {
          "base_uri": "https://localhost:8080/"
        },
        "id": "Mvk58qZEfcvh",
        "outputId": "213dd912-912c-4ae5-91bb-d47bae11e99d"
      },
      "execution_count": 8,
      "outputs": [
        {
          "output_type": "stream",
          "name": "stdout",
          "text": [
            "{'neha'}\n"
          ]
        }
      ]
    },
    {
      "cell_type": "markdown",
      "source": [
        "Ques. 2 Write a code to find the length of the string \"Hello World\"?\n"
      ],
      "metadata": {
        "id": "LXKc3fu2gjKl"
      }
    },
    {
      "cell_type": "code",
      "source": [
        "text = \"Hello World\"\n",
        "print(len(text))"
      ],
      "metadata": {
        "colab": {
          "base_uri": "https://localhost:8080/"
        },
        "id": "UhcLki2ggGUA",
        "outputId": "3c168475-68aa-44cb-c6b4-f03e82b3af72"
      },
      "execution_count": 9,
      "outputs": [
        {
          "output_type": "stream",
          "name": "stdout",
          "text": [
            "11\n"
          ]
        }
      ]
    },
    {
      "cell_type": "markdown",
      "source": [
        "Ques.3 Write a code to slice the first 3 characters from the string \"Python Programming\"?\n"
      ],
      "metadata": {
        "id": "HShT4aElg2Un"
      }
    },
    {
      "cell_type": "code",
      "source": [
        "text = \"Python Programming\"\n",
        "sliced = text[:3]\n",
        "print(sliced)"
      ],
      "metadata": {
        "colab": {
          "base_uri": "https://localhost:8080/"
        },
        "id": "gAEcjgl1g0ab",
        "outputId": "675f77ce-8616-49c4-c99e-69e812869ef4"
      },
      "execution_count": 10,
      "outputs": [
        {
          "output_type": "stream",
          "name": "stdout",
          "text": [
            "Pyt\n"
          ]
        }
      ]
    },
    {
      "cell_type": "markdown",
      "source": [
        "Ques.4 P Write a code to convert the string \"hello\" to uppercase?"
      ],
      "metadata": {
        "id": "eUaiW7eahLRf"
      }
    },
    {
      "cell_type": "code",
      "source": [
        "text = \"hello\"\n",
        "uppercase = text.upper()\n",
        "print(uppercase)"
      ],
      "metadata": {
        "colab": {
          "base_uri": "https://localhost:8080/"
        },
        "id": "h10wI4YYhGVC",
        "outputId": "3b3bd095-4d78-4100-cd30-b97cbca7b2e7"
      },
      "execution_count": 11,
      "outputs": [
        {
          "output_type": "stream",
          "name": "stdout",
          "text": [
            "HELLO\n"
          ]
        }
      ]
    },
    {
      "cell_type": "markdown",
      "source": [
        "Ques.5 Write a code to replace the word \"apple\" with \"orange\" in the string \"I like apple\"?"
      ],
      "metadata": {
        "id": "Nc-gYea9haUo"
      }
    },
    {
      "cell_type": "code",
      "source": [
        "text = \"I like apple\"\n",
        "new_text = text.replace(\"apple\", \"orange\")\n",
        "print(new_text)"
      ],
      "metadata": {
        "colab": {
          "base_uri": "https://localhost:8080/"
        },
        "id": "clMPzFOOhYXx",
        "outputId": "2baf7ac1-97b5-4a45-c75b-134e08587e85"
      },
      "execution_count": 12,
      "outputs": [
        {
          "output_type": "stream",
          "name": "stdout",
          "text": [
            "I like orange\n"
          ]
        }
      ]
    },
    {
      "cell_type": "markdown",
      "source": [
        "Ques.6 Write a code to create a list with numbers 1 to 5 and print it?\n"
      ],
      "metadata": {
        "id": "vn8YeIyShoWo"
      }
    },
    {
      "cell_type": "code",
      "source": [
        "numbers = [1, 2, 3, 4, 5]\n",
        "print(numbers)"
      ],
      "metadata": {
        "colab": {
          "base_uri": "https://localhost:8080/"
        },
        "id": "OxVKPbEahl5S",
        "outputId": "87361531-d18c-44d3-890a-b1be9804ae88"
      },
      "execution_count": 13,
      "outputs": [
        {
          "output_type": "stream",
          "name": "stdout",
          "text": [
            "[1, 2, 3, 4, 5]\n"
          ]
        }
      ]
    },
    {
      "cell_type": "markdown",
      "source": [
        "Ques.7 Write a code to append the number 10 to the list [1, 2, 3, 4]?\n"
      ],
      "metadata": {
        "id": "PLaZOkADh18C"
      }
    },
    {
      "cell_type": "code",
      "source": [
        "numbers = [1, 2, 3, 4]\n",
        "numbers.append(10)\n",
        "print(numbers)"
      ],
      "metadata": {
        "colab": {
          "base_uri": "https://localhost:8080/"
        },
        "id": "1vTOvJEbh0si",
        "outputId": "26090c7b-014a-4f73-84ba-ef124926dfb3"
      },
      "execution_count": 14,
      "outputs": [
        {
          "output_type": "stream",
          "name": "stdout",
          "text": [
            "[1, 2, 3, 4, 10]\n"
          ]
        }
      ]
    },
    {
      "cell_type": "markdown",
      "source": [
        "Ques.8 Write a code to remove the number 3 from the list [1, 2, 3, 4, 5]?"
      ],
      "metadata": {
        "id": "j_3rQf1siHQQ"
      }
    },
    {
      "cell_type": "code",
      "source": [
        "numbers = [1, 2, 3, 4, 5]\n",
        "numbers.remove(3)\n",
        "print(numbers)"
      ],
      "metadata": {
        "colab": {
          "base_uri": "https://localhost:8080/"
        },
        "id": "OVP8zehDiCH5",
        "outputId": "e3f59a8b-bb2f-48a5-c382-239fcec88d2b"
      },
      "execution_count": 15,
      "outputs": [
        {
          "output_type": "stream",
          "name": "stdout",
          "text": [
            "[1, 2, 4, 5]\n"
          ]
        }
      ]
    },
    {
      "cell_type": "markdown",
      "source": [
        "Ques.9"
      ],
      "metadata": {
        "id": "ZIP56Vj2iS7g"
      }
    },
    {
      "cell_type": "code",
      "source": [
        "letters = ['a', 'b', 'c', 'd']\n",
        "print(letters[1])"
      ],
      "metadata": {
        "colab": {
          "base_uri": "https://localhost:8080/"
        },
        "id": "Z-gfB9r8iVzQ",
        "outputId": "ad10daa7-6601-44ed-b2bd-11a99140a09b"
      },
      "execution_count": 16,
      "outputs": [
        {
          "output_type": "stream",
          "name": "stdout",
          "text": [
            "b\n"
          ]
        }
      ]
    },
    {
      "cell_type": "markdown",
      "source": [
        "Ques. 10"
      ],
      "metadata": {
        "id": "OnboS0SDiWxT"
      }
    },
    {
      "cell_type": "code",
      "source": [
        "numbers = [10, 20, 30, 40, 50]\n",
        "numbers.reverse()\n",
        "print(numbers)"
      ],
      "metadata": {
        "id": "-GUWXK8fiYlo"
      },
      "execution_count": null,
      "outputs": []
    },
    {
      "cell_type": "markdown",
      "source": [
        "Ques.11  Write a code to create a tuple with the elements 100, 200, 300 and print it."
      ],
      "metadata": {
        "id": "CUgKElc0iZGj"
      }
    },
    {
      "cell_type": "code",
      "source": [
        "t = (100, 200, 300)\n",
        "print(t)\n",
        "# Output: (100, 200, 300)"
      ],
      "metadata": {
        "colab": {
          "base_uri": "https://localhost:8080/"
        },
        "id": "6GkHYjqjlL8p",
        "outputId": "625d4caf-afc7-4926-e22d-5d0cbc3e1627"
      },
      "execution_count": 17,
      "outputs": [
        {
          "output_type": "stream",
          "name": "stdout",
          "text": [
            "(100, 200, 300)\n"
          ]
        }
      ]
    },
    {
      "cell_type": "markdown",
      "source": [],
      "metadata": {
        "id": "cgVWtaFWibiA"
      }
    },
    {
      "cell_type": "markdown",
      "source": [
        "12. Write a code to access the second-to-last element of the tuple ('red', 'green', 'blue', 'yellow')."
      ],
      "metadata": {
        "id": "d4qWGnkwickh"
      }
    },
    {
      "cell_type": "code",
      "source": [
        "colors = ('red', 'green', 'blue', 'yellow')\n",
        "print(colors[-2])\n",
        "# Output: blue"
      ],
      "metadata": {
        "colab": {
          "base_uri": "https://localhost:8080/"
        },
        "id": "fYiJSUbhieZP",
        "outputId": "afbe42a4-4ea0-4ca5-d5e6-c176d16ff7b0"
      },
      "execution_count": 18,
      "outputs": [
        {
          "output_type": "stream",
          "name": "stdout",
          "text": [
            "blue\n"
          ]
        }
      ]
    },
    {
      "cell_type": "markdown",
      "source": [
        "Ques.13 Write a code to find the minimum number in the tuple (10, 20, 5, 15).\n",
        "\n",
        "\n"
      ],
      "metadata": {
        "id": "zwYy4v0CifH2"
      }
    },
    {
      "cell_type": "code",
      "source": [
        "t = (10, 20, 5, 15)\n",
        "print(min(t))\n",
        "# Output: 5"
      ],
      "metadata": {
        "colab": {
          "base_uri": "https://localhost:8080/"
        },
        "id": "-14ZKxrdihGs",
        "outputId": "f534eca2-473c-434c-83fb-18169ddd9646"
      },
      "execution_count": 19,
      "outputs": [
        {
          "output_type": "stream",
          "name": "stdout",
          "text": [
            "5\n"
          ]
        }
      ]
    },
    {
      "cell_type": "markdown",
      "source": [
        "Ques.14 Write a code to find the index of the element \"cat\" in the tuple ('dog', 'cat', 'rabbit')?"
      ],
      "metadata": {
        "id": "x8MvnpNEih9s"
      }
    },
    {
      "cell_type": "code",
      "source": [
        "animals = ('dog', 'cat', 'rabbit')\n",
        "print(animals.index('cat'))\n",
        "# Output: 1"
      ],
      "metadata": {
        "colab": {
          "base_uri": "https://localhost:8080/"
        },
        "id": "9nTEaQz-iklu",
        "outputId": "7668d5ba-37bb-4cd5-e75b-21e881ce81c2"
      },
      "execution_count": 20,
      "outputs": [
        {
          "output_type": "stream",
          "name": "stdout",
          "text": [
            "1\n"
          ]
        }
      ]
    },
    {
      "cell_type": "markdown",
      "source": [
        "Ques.15  Write a code to create a tuple containing three different fruits and check if \"kiwi\" is in it."
      ],
      "metadata": {
        "id": "pyrx3H4qilIc"
      }
    },
    {
      "cell_type": "code",
      "source": [
        "fruits = ('apple', 'banana', 'kiwi', 'mango', 'orange')\n",
        "print('kiwi' in fruits)\n",
        "# Output: True"
      ],
      "metadata": {
        "colab": {
          "base_uri": "https://localhost:8080/"
        },
        "id": "XHV9iYtninhF",
        "outputId": "bed6afe6-7df4-4415-ac0d-a0bacff58efc"
      },
      "execution_count": 21,
      "outputs": [
        {
          "output_type": "stream",
          "name": "stdout",
          "text": [
            "True\n"
          ]
        }
      ]
    },
    {
      "cell_type": "markdown",
      "source": [
        "Ques.16 Write a code to create a set with the elements 'a', 'b', 'c' and print it.\n"
      ],
      "metadata": {
        "id": "n_0IZ8B1ioUU"
      }
    },
    {
      "cell_type": "code",
      "source": [
        "s = {'a', 'b', 'c'}\n",
        "print(s)\n",
        "# Output: {'a', 'b', 'c'}"
      ],
      "metadata": {
        "colab": {
          "base_uri": "https://localhost:8080/"
        },
        "id": "9ZIcljJ-iq2p",
        "outputId": "edb25d40-b594-422b-991b-c5d7c0071262"
      },
      "execution_count": 22,
      "outputs": [
        {
          "output_type": "stream",
          "name": "stdout",
          "text": [
            "{'a', 'b', 'c'}\n"
          ]
        }
      ]
    },
    {
      "cell_type": "markdown",
      "source": [
        "Ques.17 Write a code to clear all elements from the set {1, 2, 3, 4, 5}."
      ],
      "metadata": {
        "id": "X6x7Q4uFirtq"
      }
    },
    {
      "cell_type": "code",
      "source": [
        "s = {1, 2, 3, 4, 5}\n",
        "s.clear()\n",
        "print(s)\n",
        "# Output: set()"
      ],
      "metadata": {
        "colab": {
          "base_uri": "https://localhost:8080/"
        },
        "id": "A-g0G0tVitYf",
        "outputId": "8d7e1558-69f5-4d9f-c963-bbbe5ba4d9c6"
      },
      "execution_count": 23,
      "outputs": [
        {
          "output_type": "stream",
          "name": "stdout",
          "text": [
            "set()\n"
          ]
        }
      ]
    },
    {
      "cell_type": "markdown",
      "source": [
        "Ques.18 Write a code to remove the element 4 from the set {1, 2, 3, 4}."
      ],
      "metadata": {
        "id": "E6PpdUp7it48"
      }
    },
    {
      "cell_type": "code",
      "source": [
        "s = {1, 2, 3, 4}\n",
        "s.remove(4)\n",
        "print(s)\n",
        "# Output: {1, 2, 3}"
      ],
      "metadata": {
        "colab": {
          "base_uri": "https://localhost:8080/"
        },
        "id": "q_t5JTKfiv32",
        "outputId": "2e7d462a-59ed-48dc-e3fc-85554541cf69"
      },
      "execution_count": 24,
      "outputs": [
        {
          "output_type": "stream",
          "name": "stdout",
          "text": [
            "{1, 2, 3}\n"
          ]
        }
      ]
    },
    {
      "cell_type": "markdown",
      "source": [
        "Ques.19 Write a code to find the union of two sets {1, 2, 3} and {3, 4, 5}."
      ],
      "metadata": {
        "id": "p_ANPlTeiwaE"
      }
    },
    {
      "cell_type": "code",
      "source": [
        "a = {1, 2, 3}\n",
        "b = {3, 4, 5}\n",
        "print(a.union(b))\n",
        "# Output: {1, 2, 3, 4, 5}"
      ],
      "metadata": {
        "colab": {
          "base_uri": "https://localhost:8080/"
        },
        "id": "IIemqSsNiyFr",
        "outputId": "97b0a426-15b6-433c-a5fa-5901042bc64d"
      },
      "execution_count": 25,
      "outputs": [
        {
          "output_type": "stream",
          "name": "stdout",
          "text": [
            "{1, 2, 3, 4, 5}\n"
          ]
        }
      ]
    },
    {
      "cell_type": "markdown",
      "source": [
        "Ques.20  Write a code to find the intersection of two sets {1, 2, 3} and {2, 3, 4}."
      ],
      "metadata": {
        "id": "kp8rrCOriyoS"
      }
    },
    {
      "cell_type": "code",
      "source": [
        "a = {1, 2, 3}\n",
        "b = {2, 3, 4}\n",
        "print(a.intersection(b))\n",
        "# Output: {2, 3}"
      ],
      "metadata": {
        "colab": {
          "base_uri": "https://localhost:8080/"
        },
        "id": "NuWDpyEQnJOg",
        "outputId": "f14f6c1e-3d36-4698-932b-1f98289066c1"
      },
      "execution_count": 27,
      "outputs": [
        {
          "output_type": "stream",
          "name": "stdout",
          "text": [
            "{2, 3}\n"
          ]
        }
      ]
    },
    {
      "cell_type": "markdown",
      "source": [
        "Ques. 21  Write a code to create a dictionary with the keys \"name\", \"age\", and \"city\", and print it."
      ],
      "metadata": {
        "id": "QXfQ9DUkme61"
      }
    },
    {
      "cell_type": "code",
      "source": [
        "d = {'name': 'John', 'age': 25, 'city': 'New York'}\n",
        "print(d)\n",
        "# Output: {'name': 'John', 'age': 25, 'city': 'New York'}"
      ],
      "metadata": {
        "colab": {
          "base_uri": "https://localhost:8080/"
        },
        "id": "iKOoWMOOnesK",
        "outputId": "276b4969-a4eb-4cd6-d126-fa956dea1f1d"
      },
      "execution_count": 28,
      "outputs": [
        {
          "output_type": "stream",
          "name": "stdout",
          "text": [
            "{'name': 'John', 'age': 25, 'city': 'New York'}\n"
          ]
        }
      ]
    },
    {
      "cell_type": "markdown",
      "source": [
        "Ques. 22 Write a code to add a new key-value pair \"country\": \"USA\" to the dictionary {'name': 'John', 'age': 25}.\n",
        "\n"
      ],
      "metadata": {
        "id": "HPA-hzdvnf3k"
      }
    },
    {
      "cell_type": "code",
      "source": [
        "d = {'name': 'John', 'age': 25}\n",
        "d['country'] = 'USA'\n",
        "print(d)\n",
        "# Output: {'name': 'John', 'age': 25, 'country': 'USA'}"
      ],
      "metadata": {
        "colab": {
          "base_uri": "https://localhost:8080/"
        },
        "id": "rtbHdlA-maEx",
        "outputId": "0ce0661a-3bb1-42a4-94b4-6c4dfdeb2feb"
      },
      "execution_count": 29,
      "outputs": [
        {
          "output_type": "stream",
          "name": "stdout",
          "text": [
            "{'name': 'John', 'age': 25, 'country': 'USA'}\n"
          ]
        }
      ]
    },
    {
      "cell_type": "markdown",
      "source": [
        "Ques.23 Write a code to access the value associated with the key \"name\" in the dictionary {'name': 'Alice', 'age': 30}.\n",
        "\n"
      ],
      "metadata": {
        "id": "qWIkggqQniyR"
      }
    },
    {
      "cell_type": "code",
      "source": [
        "d = {'name': 'Alice', 'age': 30}\n",
        "print(d['name'])\n",
        "# Output: Alice"
      ],
      "metadata": {
        "colab": {
          "base_uri": "https://localhost:8080/"
        },
        "id": "90VATmc8nlFp",
        "outputId": "e52301c5-8161-44e7-8095-d8ac32919ccf"
      },
      "execution_count": 30,
      "outputs": [
        {
          "output_type": "stream",
          "name": "stdout",
          "text": [
            "Alice\n"
          ]
        }
      ]
    },
    {
      "cell_type": "markdown",
      "source": [
        "Ques.24 Write a code to remove the key \"age\" from the dictionary {'name': 'Bob', 'age': 22, 'city': 'New York'}."
      ],
      "metadata": {
        "id": "Fmqj7FJanlx1"
      }
    },
    {
      "cell_type": "code",
      "source": [
        "d = {'name': 'Bob', 'age': 22, 'city': 'New York'}\n",
        "del d['age']\n",
        "print(d)\n",
        "# Output: {'name': 'Bob', 'city': 'New York'}"
      ],
      "metadata": {
        "colab": {
          "base_uri": "https://localhost:8080/"
        },
        "id": "cBVbJ0cBnoEg",
        "outputId": "f5de1c27-35b8-43a7-d9d8-4e4dbebab450"
      },
      "execution_count": 31,
      "outputs": [
        {
          "output_type": "stream",
          "name": "stdout",
          "text": [
            "{'name': 'Bob', 'city': 'New York'}\n"
          ]
        }
      ]
    },
    {
      "cell_type": "markdown",
      "source": [
        "Ques.25 Write a code to check if the key \"city\" exists in the dictionary {'name': 'Alice', 'city': 'Paris'}.\n",
        "\n"
      ],
      "metadata": {
        "id": "aSq9xgd5nop9"
      }
    },
    {
      "cell_type": "code",
      "source": [
        "d = {'name': 'Alice', 'city': 'Paris'}\n",
        "print('city' in d)\n",
        "# Output: True"
      ],
      "metadata": {
        "colab": {
          "base_uri": "https://localhost:8080/"
        },
        "id": "47gJE0tpnqht",
        "outputId": "f0f19591-9430-47d4-9305-8498766df5f7"
      },
      "execution_count": 32,
      "outputs": [
        {
          "output_type": "stream",
          "name": "stdout",
          "text": [
            "True\n"
          ]
        }
      ]
    },
    {
      "cell_type": "markdown",
      "source": [
        "Ques.26 Write a code to create a list, a tuple, and a dictionary, and print them all."
      ],
      "metadata": {
        "id": "5DuVA6BInrX4"
      }
    },
    {
      "cell_type": "code",
      "source": [
        "l = [1, 2, 3]\n",
        "t = (4, 5, 6)\n",
        "d = {'a': 1, 'b': 2}\n",
        "print(l)\n",
        "print(t)\n",
        "print(d)\n",
        "# Output:\n",
        "# [1, 2, 3]\n",
        "# (4, 5, 6)\n",
        "# {'a': 1, 'b': 2}"
      ],
      "metadata": {
        "colab": {
          "base_uri": "https://localhost:8080/"
        },
        "id": "K1lLqroyntAl",
        "outputId": "6b5b969d-d4c9-4984-fc13-1d718c726bc5"
      },
      "execution_count": 33,
      "outputs": [
        {
          "output_type": "stream",
          "name": "stdout",
          "text": [
            "[1, 2, 3]\n",
            "(4, 5, 6)\n",
            "{'a': 1, 'b': 2}\n"
          ]
        }
      ]
    },
    {
      "cell_type": "markdown",
      "source": [
        "Ques.27 Write a code to create a list of 5 random numbers between 1 and 100, sort it in ascending order, and print the result.(replaced)"
      ],
      "metadata": {
        "id": "SUpRsZb9ntmm"
      }
    },
    {
      "cell_type": "code",
      "source": [
        "import random\n",
        "nums = random.sample(range(1, 101), 5)\n",
        "nums.sort()\n",
        "print(nums)\n",
        "# Output: Varies, e.g. [5, 17, 34, 62, 89]"
      ],
      "metadata": {
        "colab": {
          "base_uri": "https://localhost:8080/"
        },
        "id": "s2Pc6__GnvRI",
        "outputId": "4bb37a0c-b2d4-418e-f670-e0909afc8bd3"
      },
      "execution_count": 34,
      "outputs": [
        {
          "output_type": "stream",
          "name": "stdout",
          "text": [
            "[11, 12, 22, 31, 52]\n"
          ]
        }
      ]
    },
    {
      "cell_type": "markdown",
      "source": [
        "Ques.28 Write a code to create a list with strings and print the element at the third index."
      ],
      "metadata": {
        "id": "V6neZqdwnvvL"
      }
    },
    {
      "cell_type": "code",
      "source": [
        "lst = ['apple', 'banana', 'cherry', 'date', 'fig']\n",
        "print(lst[3])\n",
        "# Output: date"
      ],
      "metadata": {
        "colab": {
          "base_uri": "https://localhost:8080/"
        },
        "id": "qCgTUpSZnxJN",
        "outputId": "fbc8d73b-a2e9-40ac-d6a7-b2aaa266ce71"
      },
      "execution_count": 35,
      "outputs": [
        {
          "output_type": "stream",
          "name": "stdout",
          "text": [
            "date\n"
          ]
        }
      ]
    },
    {
      "cell_type": "markdown",
      "source": [
        "Ques.29 Write a code to combine two dictionaries into one and print the result."
      ],
      "metadata": {
        "id": "OtJpC_QmnyV4"
      }
    },
    {
      "cell_type": "code",
      "source": [
        "d1 = {'a': 1, 'b': 2}\n",
        "d2 = {'c': 3, 'd': 4}\n",
        "d1.update(d2)\n",
        "print(d1)\n",
        "# Output: {'a': 1, 'b': 2, 'c': 3, 'd': 4}"
      ],
      "metadata": {
        "colab": {
          "base_uri": "https://localhost:8080/"
        },
        "id": "nqFHODT7nx5z",
        "outputId": "e3e7c972-9332-431e-fec5-dba405863541"
      },
      "execution_count": 36,
      "outputs": [
        {
          "output_type": "stream",
          "name": "stdout",
          "text": [
            "{'a': 1, 'b': 2, 'c': 3, 'd': 4}\n"
          ]
        }
      ]
    },
    {
      "cell_type": "markdown",
      "source": [
        "Ques.30 Write a code to convert a list of strings into a set."
      ],
      "metadata": {
        "id": "dyD9XPMhn0k9"
      }
    },
    {
      "cell_type": "code",
      "source": [
        "lst = ['apple', 'banana', 'apple', 'orange']\n",
        "s = set(lst)\n",
        "print(s)\n",
        "# Output: {'banana', 'orange', 'apple'}"
      ],
      "metadata": {
        "colab": {
          "base_uri": "https://localhost:8080/"
        },
        "id": "eJOxfhMvo3ZJ",
        "outputId": "1883aecc-7fad-450f-873a-c3a06190b66c"
      },
      "execution_count": 37,
      "outputs": [
        {
          "output_type": "stream",
          "name": "stdout",
          "text": [
            "{'orange', 'banana', 'apple'}\n"
          ]
        }
      ]
    },
    {
      "cell_type": "code",
      "source": [],
      "metadata": {
        "id": "YvyPJICIo6wq"
      },
      "execution_count": null,
      "outputs": []
    }
  ]
}