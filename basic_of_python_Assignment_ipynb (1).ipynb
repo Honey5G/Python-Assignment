{
  "nbformat": 4,
  "nbformat_minor": 0,
  "metadata": {
    "colab": {
      "provenance": []
    },
    "kernelspec": {
      "name": "python3",
      "display_name": "Python 3"
    },
    "language_info": {
      "name": "python"
    }
  },
  "cells": [
    {
      "cell_type": "markdown",
      "source": [
        "\n",
        "\n"
      ],
      "metadata": {
        "id": "JH9MldHs266r"
      }
    },
    {
      "cell_type": "markdown",
      "source": [
        "Ques.1  What is Python, and why is it popular?\n",
        "\n",
        "Ans:  Python is a high leve, interpreted and programming language which is very commonly used for web development, data science and AI etc. It is also a object- oriented language. It is popular due to its simplicity and readability . It has also a extensive libraries.That's the reasons of its popularity."
      ],
      "metadata": {
        "id": "_W6r6MbP8-Uu"
      }
    },
    {
      "cell_type": "markdown",
      "source": [
        "Ques.2 What is an interpreter in Python?\n",
        "\n",
        "Ans:   An interpreter in a python is a program that directly executes instructions written in a programming language, without requiring them to be previously complied into a machine language program. It reads and executes the code line by line.\n"
      ],
      "metadata": {
        "id": "x2qBUihv87to"
      }
    },
    {
      "cell_type": "markdown",
      "source": [
        "Ques. 3 What are pre- defined keywords in python?\n",
        "\n",
        "Ans:   Pre- defined keywords in python are the special words that have a specific meaning and purpose in the language. Pre- defined words are also known as the reserved words. For eg: if, else, while,true false,non etc.\n"
      ],
      "metadata": {
        "id": "3fNEFvOy3BMR"
      }
    },
    {
      "cell_type": "markdown",
      "source": [
        "Ques. 4 Can keywords be used as a variable names?\n",
        "\n",
        "Ans:  No, keywords can not be used as a variable names in a Python, because they are reserved and  have special meanings to the interpreter. If we use them as a variable names it will shows us result in a syntax error.\n"
      ],
      "metadata": {
        "id": "dPLmRk-sDGkW"
      }
    },
    {
      "cell_type": "markdown",
      "source": [
        "Ques.5 What is a mutability in python?\n",
        "\n",
        "Ans:  In python mutability means whether an objects value can be changed after created. Mutable objects like lists, dictionary and sets, these are mutable.\n"
      ],
      "metadata": {
        "id": "WyM_VbE2EK0E"
      }
    },
    {
      "cell_type": "markdown",
      "source": [
        "Ques. 6 Why are lists are mutable , but  tuples are immutable?\n",
        "\n",
        "Ans:   Lists are designed to be an dynamic collection where elements can be added, removed and modified after creation. Hence they are mutable. Tuples are designed for a fixed collection of items, often data should not change.\n"
      ],
      "metadata": {
        "id": "6eCHCjr5F3va"
      }
    },
    {
      "cell_type": "markdown",
      "source": [
        "Ques. 7 What is the difference between \"==\" and \"is\" operators in python?\n",
        "\n",
        "Ans:   \"==\" It is the equality operator which is used to check the values of two operands are equal.\n",
        "   \"is\" this is a identity operator checks if two orphands refer to the same object in  memory.\n",
        "   "
      ],
      "metadata": {
        "id": "Sx8cOFi4HmRh"
      }
    },
    {
      "cell_type": "markdown",
      "source": [
        "Ques. 8  What are the logical operators in Python?\n",
        "\n",
        "Ans:  Lgical operators are in python are used to combine conditional statements:\n",
        ". and: returns true if both operands are true.\n",
        ". or : returns true if at least one operand is true.\n",
        ". not: Reserve the logical state of its operand."
      ],
      "metadata": {
        "id": "tYlLdQ_QJBo2"
      }
    },
    {
      "cell_type": "markdown",
      "source": [
        "Ques.9  What is type castsing in the python?\n",
        "\n",
        "Ans: Type csting in a python is a process which is used to converting a value from one data type to another.\n",
        "eg: Converting a float to an integer and integer to a string.\n",
        "\n",
        "\n"
      ],
      "metadata": {
        "id": "6XunmMv0KoFG"
      }
    },
    {
      "cell_type": "markdown",
      "source": [
        "Ques.10  What is the difference between implicit and explicit?\n",
        "\n",
        "Ans:  Implicit-\n",
        "              Done automatically by the python intepreter when operations involve different data type.\n",
        "        eg: adding an integer and a float result in a float.\n",
        "      Explicit-\n",
        "                Done manually by the programmer using built- in functions like int(), float(),str() etc to convert data type.\n",
        "                        "
      ],
      "metadata": {
        "id": "ttxVl7DnLytF"
      }
    },
    {
      "cell_type": "markdown",
      "source": [
        "Ques. 11 What is the purpose of conditionals statements in Python?\n",
        "\n",
        "Ans: Conditionals statements (if, elif, else) in Python are used to execute different blocks of code based on whether a specified condition evaluates to TRUE or FALSE. They enables decision-making in programs.\n"
      ],
      "metadata": {
        "id": "9fG_XVzeNpGn"
      }
    },
    {
      "cell_type": "markdown",
      "source": [
        "  Que. 12  How does the elif statement works?\n",
        "\n",
        "  Ans:  The \"elif\" (else if) statement is used after an \"if\" statement (and before an optional else) to test an additional condition if the preceding \"if\" or elif conditions were false . It allows for multiple conditions to be checked sequentially."
      ],
      "metadata": {
        "id": "6uJd4aj1PO3O"
      }
    },
    {
      "cell_type": "markdown",
      "source": [
        "Ques. 13  What is the difference between \"for\" and \"while\" loops?\n",
        "\n",
        "Ans:   for loop:  It is used for a iterating over a sequence (like a list, tuple,and string) or other iterable objects. it's typically used when the number or iterations is known or determined by the length of the sequence.\n",
        "\n",
        "While loop: It is used to repeatedly execute a block of code as long as a specified is \"TRUE\". It's typically used when the number of iterations is not known in advance and depends on a condition being met.\n"
      ],
      "metadata": {
        "id": "f1mnhMfFQ8SX"
      }
    },
    {
      "cell_type": "markdown",
      "source": [
        "Ques. 19 Describe a scenario where a while loop is more suitable than a for loop?\n",
        "\n",
        "Ans:   A while loop is more suitable when you need to repeat an action until a certain condition is met, and the number of repetitions is not known beforehand. for eg: promoting a user for input until valid input is provided, or simulating a game where the game continous until a specific win/ loss condition is met."
      ],
      "metadata": {
        "id": "YRvM16iUS0qM"
      }
    },
    {
      "cell_type": "markdown",
      "source": [
        "PRACTICAL QUESTIONS:"
      ],
      "metadata": {
        "id": "4QMkMOEK2as0"
      }
    },
    {
      "cell_type": "markdown",
      "source": [
        "Ques.1 Wright a Pythone program to print \"Hello,World!\"?"
      ],
      "metadata": {
        "id": "Dod-H2m11_93"
      }
    },
    {
      "cell_type": "code",
      "execution_count": 1,
      "metadata": {
        "colab": {
          "base_uri": "https://localhost:8080/"
        },
        "id": "oPPnh3EA21jj",
        "outputId": "8d3585f0-0d6a-4720-953d-4170f24ef364"
      },
      "outputs": [
        {
          "output_type": "stream",
          "name": "stdout",
          "text": [
            "Hellow, World!\n"
          ]
        }
      ],
      "source": [
        "a= \"Hellow, World!\"\n",
        "print(a)"
      ]
    },
    {
      "cell_type": "markdown",
      "source": [
        "Ques. 2 wright a Python program that displays your name and age?\n"
      ],
      "metadata": {
        "id": "fFu4a0nxWOKD"
      }
    },
    {
      "cell_type": "code",
      "source": [
        "name= \"Neha\"\n",
        "age= \"21\"\n",
        "print(\"My name is Neha and im 21 years old\")\n"
      ],
      "metadata": {
        "colab": {
          "base_uri": "https://localhost:8080/"
        },
        "id": "X8mXRNRd3DKb",
        "outputId": "f3a232a9-7cf1-42ea-a93e-368198783d71"
      },
      "execution_count": 8,
      "outputs": [
        {
          "output_type": "stream",
          "name": "stdout",
          "text": [
            "My name is Neha and im 21 years old\n"
          ]
        }
      ]
    },
    {
      "cell_type": "markdown",
      "source": [
        "Ques.3 Write code to print all the pre-defined keywords in the python using the keyword library?\n",
        "\n",
        "\n",
        "\n",
        ""
      ],
      "metadata": {
        "id": "g3-48cwTW3No"
      }
    },
    {
      "cell_type": "code",
      "source": [
        "import keyword\n",
        "print(keyword.kwlist)\n",
        ""
      ],
      "metadata": {
        "colab": {
          "base_uri": "https://localhost:8080/"
        },
        "id": "gmqvs6bzZg9c",
        "outputId": "e422d404-26fd-4580-8c36-b2ee46d2e36d"
      },
      "execution_count": 16,
      "outputs": [
        {
          "output_type": "stream",
          "name": "stdout",
          "text": [
            "['False', 'None', 'True', 'and', 'as', 'assert', 'async', 'await', 'break', 'class', 'continue', 'def', 'del', 'elif', 'else', 'except', 'finally', 'for', 'from', 'global', 'if', 'import', 'in', 'is', 'lambda', 'nonlocal', 'not', 'or', 'pass', 'raise', 'return', 'try', 'while', 'with', 'yield']\n"
          ]
        }
      ]
    },
    {
      "cell_type": "markdown",
      "source": [
        "Ques.4  Write a program that cheks if a given word is python keyword?\n"
      ],
      "metadata": {
        "id": "4O9Qd3bwZyPN"
      }
    },
    {
      "cell_type": "code",
      "source": [
        "import keyword\n",
        "word = input(\"Enter a word: \")\n",
        "if keyword.iskeyword(word):\n",
        "    print(f\"{word} is a Python keyword.\")\n",
        "else:\n",
        "    print(f\"{word} is not a Python keyword.\")"
      ],
      "metadata": {
        "colab": {
          "base_uri": "https://localhost:8080/"
        },
        "id": "osORkBdJwsIZ",
        "outputId": "529d63a2-58bc-4b2e-ca3e-376bff1e28b3"
      },
      "execution_count": 17,
      "outputs": [
        {
          "output_type": "stream",
          "name": "stdout",
          "text": [
            "Enter a word: Python\n",
            "Python is not a Python keyword.\n"
          ]
        }
      ]
    },
    {
      "cell_type": "markdown",
      "source": [
        "Ques. 5 Create a list and tuple in Python ,and demonstrate how attempting to change an element works differently for each?  "
      ],
      "metadata": {
        "id": "7uHNT561gRk0"
      }
    },
    {
      "cell_type": "code",
      "source": [
        "my_list = [1, 2, 3, 4]\n",
        "my_tuple = (5, 6, 7, 8)\n",
        "print(\"List:\", my_list)\n",
        "print(\"Tuple:\", my_tuple)"
      ],
      "metadata": {
        "colab": {
          "base_uri": "https://localhost:8080/"
        },
        "id": "kuXM7TP1lbG0",
        "outputId": "09d5eba5-b2ed-44d0-9953-e4a6c3eb9497"
      },
      "execution_count": 18,
      "outputs": [
        {
          "output_type": "stream",
          "name": "stdout",
          "text": [
            "List: [1, 2, 3, 4]\n",
            "Tuple: (5, 6, 7, 8)\n"
          ]
        }
      ]
    },
    {
      "cell_type": "markdown",
      "source": [
        "Ques.6  Write a function to demonstrate the behavior of mutable and immutable arguments?"
      ],
      "metadata": {
        "id": "HLszuE3hkaBG"
      }
    },
    {
      "cell_type": "code",
      "source": [
        "def modify_list(l):\n",
        "    l[0] = 100\n",
        "\n",
        "def modify_tuple(t):\n",
        "    try:\n",
        "        t[0] = 100\n",
        "    except TypeError:\n",
        "        print(\"Cannot modify tuple!\")\n",
        "\n",
        "lst = [1, 2, 3]\n",
        "modify_list(lst)\n",
        "print(\"Modified list:\", lst)\n",
        "\n",
        "tup = (1, 2, 3)\n",
        "modify_tuple(tup)"
      ],
      "metadata": {
        "colab": {
          "base_uri": "https://localhost:8080/"
        },
        "id": "aWJq-6t8nVq5",
        "outputId": "12f5985d-2eb9-4582-cb7b-fb0c5548e743"
      },
      "execution_count": 4,
      "outputs": [
        {
          "output_type": "stream",
          "name": "stdout",
          "text": [
            "Modified list: [100, 2, 3]\n",
            "Cannot modify tuple!\n"
          ]
        }
      ]
    },
    {
      "cell_type": "markdown",
      "source": [
        "Ques.7  Write a program that performs basic arithmetic operations on two user-input numbers?"
      ],
      "metadata": {
        "id": "HkJKmuFqnuoL"
      }
    },
    {
      "cell_type": "code",
      "source": [
        "a = int(input(\"Enter first number: \"))\n",
        "b = int(input(\"Enter second number: \"))\n",
        "print(\"Addition:\", a + b)\n",
        "print(\"Subtraction:\", a - b)\n",
        "print(\"Multiplication:\", a * b)\n",
        "print(\"Division:\", a / b)"
      ],
      "metadata": {
        "colab": {
          "base_uri": "https://localhost:8080/"
        },
        "id": "ixtKAHpgoL73",
        "outputId": "5fe595d2-6ac3-40f6-ed2d-eaf3de081838"
      },
      "execution_count": 5,
      "outputs": [
        {
          "output_type": "stream",
          "name": "stdout",
          "text": [
            "Enter first number: 10\n",
            "Enter second number: 5\n",
            "Addition: 15\n",
            "Subtraction: 5\n",
            "Multiplication: 50\n",
            "Division: 2.0\n"
          ]
        }
      ]
    },
    {
      "cell_type": "markdown",
      "source": [
        "Ques.8  Write a program to demonstrate the use of logical operators?\n",
        ""
      ],
      "metadata": {
        "id": "z1so-apgo9LX"
      }
    },
    {
      "cell_type": "code",
      "source": [
        "a = 10\n",
        "b = 20\n",
        "print(a > 5 and b > 15)  # True\n",
        "print(a < 5 or b > 15)   # True\n",
        "print(not(a > b))        # True"
      ],
      "metadata": {
        "colab": {
          "base_uri": "https://localhost:8080/"
        },
        "id": "1YWgj_FAyQ3e",
        "outputId": "07526a20-c430-40f9-bbff-68adb96a30f9"
      },
      "execution_count": 19,
      "outputs": [
        {
          "output_type": "stream",
          "name": "stdout",
          "text": [
            "True\n",
            "True\n",
            "True\n"
          ]
        }
      ]
    },
    {
      "cell_type": "markdown",
      "source": [
        "Ques. 9 Write a Python program to convert user input from string to integer, float, and boolean types?"
      ],
      "metadata": {
        "id": "QTWCHwNIp0K2"
      }
    },
    {
      "cell_type": "code",
      "source": [
        "user_input = input(\"Enter a value: \")\n",
        "print(\"As integer:\", int(user_input))\n",
        "print(\"As float:\", float(user_input))\n",
        "print(\"As boolean:\", bool(user_input))"
      ],
      "metadata": {
        "colab": {
          "base_uri": "https://localhost:8080/"
        },
        "id": "tDwn9kGDqOm8",
        "outputId": "18d23173-34d5-4a49-bc43-27ec9e9828b2"
      },
      "execution_count": 20,
      "outputs": [
        {
          "output_type": "stream",
          "name": "stdout",
          "text": [
            "Enter a value: 10\n",
            "As integer: 10\n",
            "As float: 10.0\n",
            "As boolean: True\n"
          ]
        }
      ]
    },
    {
      "cell_type": "markdown",
      "source": [
        "Ques.10 Write code to demonstrate type casting with list elements?\n"
      ],
      "metadata": {
        "id": "iI3ELb-mrAuw"
      }
    },
    {
      "cell_type": "code",
      "source": [
        "x = 5\n",
        "y = float(x)\n",
        "print(\"Integer to float:\", y)\n",
        "\n",
        "s = \"123\"\n",
        "n = int(s)\n",
        "print(\"String to integer:\", n)\n",
        "\n",
        "f = 9.8\n",
        "i = int(f)\n",
        "print(\"Float to integer:\", i)"
      ],
      "metadata": {
        "colab": {
          "base_uri": "https://localhost:8080/"
        },
        "id": "jA3nGlhTysW-",
        "outputId": "d3a89708-2c12-4265-9e3d-795f598ac06d"
      },
      "execution_count": 21,
      "outputs": [
        {
          "output_type": "stream",
          "name": "stdout",
          "text": [
            "Integer to float: 5.0\n",
            "String to integer: 123\n",
            "Float to integer: 9\n"
          ]
        }
      ]
    },
    {
      "cell_type": "markdown",
      "source": [
        "Ques. 11  Write a program that checks if a number is positive, negative, or zero?"
      ],
      "metadata": {
        "id": "_g2c-D61rujG"
      }
    },
    {
      "cell_type": "code",
      "source": [
        "num = int(input(\"Enter a number: \"))\n",
        "if num > 0:\n",
        "    print(\"Positive number\")\n",
        "elif num < 0:\n",
        "    print(\"Negative number\")\n",
        "else:\n",
        "    print(\"Zero\")"
      ],
      "metadata": {
        "colab": {
          "base_uri": "https://localhost:8080/"
        },
        "id": "3R5rF5uMrZpr",
        "outputId": "d9bca6c0-eb17-4f3c-d034-e5908bd38eb3"
      },
      "execution_count": 22,
      "outputs": [
        {
          "output_type": "stream",
          "name": "stdout",
          "text": [
            "Enter a number: -21\n",
            "Negative number\n"
          ]
        }
      ]
    },
    {
      "cell_type": "markdown",
      "source": [
        "Ques. 12 Write a for loop to print numbers from 1 to 10?\n"
      ],
      "metadata": {
        "id": "Wz_pCEah0Aqk"
      }
    },
    {
      "cell_type": "code",
      "source": [
        "i = 1\n",
        "while i <= 10:\n",
        "    print(i, end=\" \")\n",
        "    i += 1"
      ],
      "metadata": {
        "colab": {
          "base_uri": "https://localhost:8080/"
        },
        "id": "X8wxPdwO0IOz",
        "outputId": "648c250e-4b99-4033-84ce-05a1d8b10f2b"
      },
      "execution_count": 24,
      "outputs": [
        {
          "output_type": "stream",
          "name": "stdout",
          "text": [
            "1 2 3 4 5 6 7 8 9 10 "
          ]
        }
      ]
    },
    {
      "cell_type": "markdown",
      "source": [
        "Ques. 13  Write a Python program to find the sum of all even numbers between 1 and 50?\n"
      ],
      "metadata": {
        "id": "0I7h50VXtK87"
      }
    },
    {
      "cell_type": "code",
      "source": [
        "for i in range(1, 51):\n",
        "    if i % 2 == 0:\n",
        "        print(i, end=\" \")"
      ],
      "metadata": {
        "colab": {
          "base_uri": "https://localhost:8080/"
        },
        "id": "0x0yaZsvzB2k",
        "outputId": "ed576fbc-6e14-4694-ff3c-6abfff033096"
      },
      "execution_count": 23,
      "outputs": [
        {
          "output_type": "stream",
          "name": "stdout",
          "text": [
            "2 4 6 8 10 12 14 16 18 20 22 24 26 28 30 32 34 36 38 40 42 44 46 48 50 "
          ]
        }
      ]
    },
    {
      "cell_type": "markdown",
      "source": [
        "Ques 14. . Write a program to reverse a string using a while loop?\n"
      ],
      "metadata": {
        "id": "JvCHsrV6zrkh"
      }
    },
    {
      "cell_type": "code",
      "source": [
        "s = input(\"Enter a string: \")\n",
        "print(\"Reversed string:\", s[::-1])"
      ],
      "metadata": {
        "colab": {
          "base_uri": "https://localhost:8080/"
        },
        "id": "w-WpqPil0jVN",
        "outputId": "a6ce868a-ced6-4fb2-cce4-22c54c596a28"
      },
      "execution_count": 25,
      "outputs": [
        {
          "output_type": "stream",
          "name": "stdout",
          "text": [
            "Enter a string: \"neha thakur\"\n",
            "Reversed string: \"rukaht ahen\"\n"
          ]
        }
      ]
    },
    {
      "cell_type": "markdown",
      "source": [
        "Ques. 15 Write a Python program to calculate the factorial of a number provided by the user using a while loop?"
      ],
      "metadata": {
        "id": "WOTPCJMA1IkT"
      }
    },
    {
      "cell_type": "code",
      "source": [
        "num = int(input(\"Enter a number: \"))\n",
        "factorial = 1\n",
        "while num > 0:\n",
        "    factorial *= num\n",
        "    num -= 1\n",
        "print(\"Factorial:\", factorial)"
      ],
      "metadata": {
        "colab": {
          "base_uri": "https://localhost:8080/"
        },
        "id": "jqpxckWk1BE4",
        "outputId": "ac72695c-2994-4af3-866c-2ced655c2979"
      },
      "execution_count": 26,
      "outputs": [
        {
          "output_type": "stream",
          "name": "stdout",
          "text": [
            "Enter a number: 155\n",
            "Factorial: 4789142901463393876335775239063022722176295591337767174070096339929153381622433264146569329274347655956110484372311586936020749175429076661003216274382475477806479918110524333880196139452687559896255940215628508414806740389616633144934400000000000000000000000000000000000000\n"
          ]
        }
      ]
    },
    {
      "cell_type": "code",
      "source": [],
      "metadata": {
        "id": "4-5UEaX61dSk"
      },
      "execution_count": null,
      "outputs": []
    }
  ]
}