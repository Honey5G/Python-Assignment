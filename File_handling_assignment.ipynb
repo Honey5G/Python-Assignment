{
  "nbformat": 4,
  "nbformat_minor": 0,
  "metadata": {
    "colab": {
      "provenance": []
    },
    "kernelspec": {
      "name": "python3",
      "display_name": "Python 3"
    },
    "language_info": {
      "name": "python"
    }
  },
  "cells": [
    {
      "cell_type": "markdown",
      "source": [
        "ASSIGNMENT OF FILE HANDLING"
      ],
      "metadata": {
        "id": "f0OfC_tEGc5Q"
      }
    },
    {
      "cell_type": "markdown",
      "source": [
        "Ques.1 What is the difference between interpreted and compiled languages?"
      ],
      "metadata": {
        "id": "IkW_wCAdPcHR"
      }
    },
    {
      "cell_type": "markdown",
      "source": [
        "Ans: Interpreted vs. Compiled Languages:\n",
        "Interpreted languages\n",
        "(like Python) are executed line by line by an interpreter at runtime.\n",
        "Compiled languages\n",
        "(like C++) are translated into machine code by a compiler before execution."
      ],
      "metadata": {
        "id": "qsuJbj6RRKq2"
      }
    },
    {
      "cell_type": "markdown",
      "source": [
        "Ques.2 What is exception handling in Python?"
      ],
      "metadata": {
        "id": "9IA5wKhlGmF7"
      }
    },
    {
      "cell_type": "markdown",
      "source": [
        "Ans: Exception handling in Python:\n",
        "It's a mechanism to deal with runtime errors, allowing a program to continue execution gracefully instead of crashing."
      ],
      "metadata": {
        "id": "Ly-Jbv_iRPuE"
      }
    },
    {
      "cell_type": "markdown",
      "source": [
        "Ques.3 What is the purpose of the finally block in exception handling?"
      ],
      "metadata": {
        "id": "ne_6rfUqGsUe"
      }
    },
    {
      "cell_type": "markdown",
      "source": [
        "Ans: Purpose of the finally block:\n",
        "The finally block in exception handling ensures that a certain block of code is always executed, regardless of whether an exception occurred or not."
      ],
      "metadata": {
        "id": "uPMqiMpuRSms"
      }
    },
    {
      "cell_type": "markdown",
      "source": [
        "Ques.4  What is logging in Python?"
      ],
      "metadata": {
        "id": "Z58X9FhJGubY"
      }
    },
    {
      "cell_type": "markdown",
      "source": [
        "Ans: Logging in Python:\n",
        "Logging is a way to record events that happen while a program runs, providing a detailed record for debugging, monitoring, and analysis."
      ],
      "metadata": {
        "id": "LQMmrXBrRU5G"
      }
    },
    {
      "cell_type": "markdown",
      "source": [
        "Ques.5 What is the significance of the __del__ method in Python?"
      ],
      "metadata": {
        "id": "v3Lh21XSGw0m"
      }
    },
    {
      "cell_type": "markdown",
      "source": [
        "Ans: Significance of _del_ method:\n",
        "The _del_ method is a special method in Python that is called when an object is about to be destroyed (garbage collected), allowing for cleanup operations."
      ],
      "metadata": {
        "id": "tQy2np4kRWs5"
      }
    },
    {
      "cell_type": "markdown",
      "source": [
        "Ques.6 What is the difference between import and from ... import in Python?"
      ],
      "metadata": {
        "id": "ME3kHueJGyep"
      }
    },
    {
      "cell_type": "markdown",
      "source": [
        "Ans: Difference between import and from...import:\n",
        "import imports an entire module, requiring you to use the module name as a prefix (e.g., math.sqrt()), while from...import imports specific attributes or functions directly into the current namespace (e.g., sqrt())."
      ],
      "metadata": {
        "id": "v0sf0QhYRafv"
      }
    },
    {
      "cell_type": "markdown",
      "source": [
        "Ques.7  How can you handle multiple exceptions in Python?"
      ],
      "metadata": {
        "id": "jPP2YaGXG0T3"
      }
    },
    {
      "cell_type": "markdown",
      "source": [
        "Ans: Handling multiple exceptions:\n",
        "You can handle multiple exceptions using multiple except blocks or by grouping multiple exception types in a single except block using a tuple."
      ],
      "metadata": {
        "id": "Rd-6CZgSRciZ"
      }
    },
    {
      "cell_type": "markdown",
      "source": [
        "Ques.8 What is the purpose of the with statement when handling files in Python?"
      ],
      "metadata": {
        "id": "4Ho9aiZIG3IR"
      }
    },
    {
      "cell_type": "markdown",
      "source": [
        "Ans: Purpose of with statement:\n",
        "The with statement ensures proper resource management, especially for files, by guaranteeing that resources are properly acquired and released (e.g., files are automatically closed)."
      ],
      "metadata": {
        "id": "nnTQgF80Resn"
      }
    },
    {
      "cell_type": "markdown",
      "source": [
        "Ques.9 What is the difference between multithreading and multiprocessing?"
      ],
      "metadata": {
        "id": "2OUXhcDaG8xj"
      }
    },
    {
      "cell_type": "markdown",
      "source": [
        "Ans: Difference between multithreading and multiprocessing:\n",
        "Multithreading involves multiple threads within a single process sharing the same memory space, while multiprocessing involves multiple independent processes, each with its own memory space."
      ],
      "metadata": {
        "id": "HJecY_BCRgRe"
      }
    },
    {
      "cell_type": "markdown",
      "source": [
        "Ques.10 What are the advantages of using logging in a program?\n"
      ],
      "metadata": {
        "id": "Rp1xpEU6G-br"
      }
    },
    {
      "cell_type": "markdown",
      "source": [
        "Ans: Advantages of logging:\n",
        "Advantages include easier debugging, better monitoring of application behavior, and improved traceability of events."
      ],
      "metadata": {
        "id": "siQxtn58rLMT"
      }
    },
    {
      "cell_type": "markdown",
      "source": [
        "Ques.11 What is memory management in Python?"
      ],
      "metadata": {
        "id": "7r-NF6wQHDtk"
      }
    },
    {
      "cell_type": "markdown",
      "source": [
        "Ans: Memory management in Python:\n",
        "Python's memory management handles allocation and deallocation of memory for objects, primarily through a private heap and a garbage collector."
      ],
      "metadata": {
        "id": "G0sbRA7HRh7A"
      }
    },
    {
      "cell_type": "markdown",
      "source": [
        "Ques.12 What are the basic steps involved in exception handling in Python?"
      ],
      "metadata": {
        "id": "L5-zXynJHF2d"
      }
    },
    {
      "cell_type": "markdown",
      "source": [
        "Ans: Basic steps in exception handling:\n",
        "The basic steps involve using try to enclose the code that might raise an exception, except to catch and handle specific exceptions, and optionally else and finally blocks."
      ],
      "metadata": {
        "id": "5GohtZsgRjuP"
      }
    },
    {
      "cell_type": "markdown",
      "source": [
        "Ques.13 Why is memory management important in Python?"
      ],
      "metadata": {
        "id": "bpSO3faHHKMv"
      }
    },
    {
      "cell_type": "markdown",
      "source": [
        "Ans: Memory management in Python:\n",
        "Python's memory management handles allocation and deallocation of memory for objects, primarily through a private heap and a garbage collector."
      ],
      "metadata": {
        "id": "mfCtlze_RlYt"
      }
    },
    {
      "cell_type": "markdown",
      "source": [
        "Ques.14 What is the role of try and except in exception handling?"
      ],
      "metadata": {
        "id": "gmcKyAulHMbZ"
      }
    },
    {
      "cell_type": "markdown",
      "source": [
        "Ans: Role of try and except:\n",
        "try defines a block of code to be monitored for exceptions, and except specifies how to handle a particular type of exception if it occurs within the try block."
      ],
      "metadata": {
        "id": "qaRSgE6aRm5k"
      }
    },
    {
      "cell_type": "markdown",
      "source": [
        "Ques.15  How does Python's garbage collection system work?"
      ],
      "metadata": {
        "id": "79FoluEDHOJq"
      }
    },
    {
      "cell_type": "markdown",
      "source": [
        "Ans: Python's garbage collection system:\n",
        "Python uses a reference counting mechanism and a generational garbage collector to automatically reclaim memory occupied by objects no longer in use.\n",
        "16. Purpose of else block in exception"
      ],
      "metadata": {
        "id": "vG_ZxkELRohP"
      }
    },
    {
      "cell_type": "markdown",
      "source": [
        "Ques.16 What is the purpose of the else block in exception handling?"
      ],
      "metadata": {
        "id": "BOBGOYozHQjQ"
      }
    },
    {
      "cell_type": "markdown",
      "source": [
        "Ans: Purpose of else block in exception handling:\n",
        "The else block is executed if no exception occurs within the try block."
      ],
      "metadata": {
        "id": "egVptRHyRqs1"
      }
    },
    {
      "cell_type": "markdown",
      "source": [
        "Ques.17  What are the common logging levels in Python?"
      ],
      "metadata": {
        "id": "JDsscZ58HSb3"
      }
    },
    {
      "cell_type": "markdown",
      "source": [
        "Ans: Common logging levels:\n",
        "Common logging levels include DEBUG, INFO, WARNING, ERROR, and CRITICAL."
      ],
      "metadata": {
        "id": "k84jXPxHRsfd"
      }
    },
    {
      "cell_type": "markdown",
      "source": [
        "Ques.18 What is the difference between os.fork() and multiprocessing in Python?"
      ],
      "metadata": {
        "id": "zjUYS81lHUB7"
      }
    },
    {
      "cell_type": "markdown",
      "source": [
        "Ans: Difference between os.fork() and multiprocessing:\n",
        "os.fork() creates a new process by duplicating the current process, while the multiprocessing module provides a higher-level API for creating and managing processes."
      ],
      "metadata": {
        "id": "M6XKJQg0RuFV"
      }
    },
    {
      "cell_type": "markdown",
      "source": [
        "Ques.19 What is the importance of closing a file in Python?\n"
      ],
      "metadata": {
        "id": "gj4tb0rIHWJG"
      }
    },
    {
      "cell_type": "markdown",
      "source": [
        "Ans: Importance of closing a file:\n",
        "Closing a file releases system resources, ensures data integrity, and flushes any buffered data to storage."
      ],
      "metadata": {
        "id": "9AvEbnVURvom"
      }
    },
    {
      "cell_type": "markdown",
      "source": [
        "Ques.20 What is the difference between file.read() and file.readline() in Python?"
      ],
      "metadata": {
        "id": "5PPJa-WjHXmj"
      }
    },
    {
      "cell_type": "markdown",
      "source": [
        "Ans: Difference between file.read() and file.readline():\n",
        "file.read() reads the entire content of a file into a single string, while file.readline() reads a single line from the file."
      ],
      "metadata": {
        "id": "oSeXoiZuRxhm"
      }
    },
    {
      "cell_type": "markdown",
      "source": [
        "Ques.21 What is the logging module in Python used for?"
      ],
      "metadata": {
        "id": "BaQ5o0OGHY_Z"
      }
    },
    {
      "cell_type": "markdown",
      "source": [
        "Ans: Logging module in Python:\n",
        "The logging module provides a flexible framework for emitting log messages from applications and libraries."
      ],
      "metadata": {
        "id": "A0rNehVbRzm_"
      }
    },
    {
      "cell_type": "markdown",
      "source": [
        "Ques.22 What is the os module in Python used for in file handling?"
      ],
      "metadata": {
        "id": "DviHX4kKHahS"
      }
    },
    {
      "cell_type": "markdown",
      "source": [
        "Ans: os module in Python for file handling:\n",
        "The os module provides functions for interacting with the operating system, including file and directory operations like creating, deleting, and renaming files."
      ],
      "metadata": {
        "id": "nr4w03nVR1rU"
      }
    },
    {
      "cell_type": "markdown",
      "source": [
        "Ques.23 What are the challenges associated with memory management in Python?"
      ],
      "metadata": {
        "id": "qS39Ui4NHdc9"
      }
    },
    {
      "cell_type": "markdown",
      "source": [
        "Ans: Challenges with memory management:\n",
        "Challenges include managing memory fragmentation, optimizing garbage collection cycles, and avoiding memory leaks in complex applications."
      ],
      "metadata": {
        "id": "yRKN51_jR3d2"
      }
    },
    {
      "cell_type": "markdown",
      "source": [
        "Ques.24 How do you raise an exception manually in Python?"
      ],
      "metadata": {
        "id": "7CYzl4a5Hf9M"
      }
    },
    {
      "cell_type": "markdown",
      "source": [
        "Ans: Raising an exception manually:\n",
        "You can raise an exception manually using the raise keyword followed by the exception type and an optional message (e.g., raise ValueError(\"Invalid input\"))."
      ],
      "metadata": {
        "id": "AXn4r0dWR6K9"
      }
    },
    {
      "cell_type": "markdown",
      "source": [
        "Ques.25 Why is it important to use multithreading in certain applications?"
      ],
      "metadata": {
        "id": "rBYNOqEGHh1H"
      }
    },
    {
      "cell_type": "markdown",
      "source": [
        "Ans: Importance of multithreading:\n",
        "Multithreading is important for improving responsiveness in applications with I/O-bound operations and for performing multiple tasks concurrently within a single process."
      ],
      "metadata": {
        "id": "qzhS4tQSHj18"
      }
    },
    {
      "cell_type": "markdown",
      "source": [
        "PRACTICAL BASES QUESTIONS:"
      ],
      "metadata": {
        "id": "GN9SAHwkHkWB"
      }
    },
    {
      "cell_type": "markdown",
      "source": [
        "Ques.1  How can you open a file for writing in Python and write a string to it?"
      ],
      "metadata": {
        "id": "TpquesQ_HvTB"
      }
    },
    {
      "cell_type": "code",
      "source": [
        "file= open(\"file_txt\",\"w\")\n",
        "file.write(\"this is my first file to write\")\n",
        "file.close()"
      ],
      "metadata": {
        "id": "C351-z28Hyoe"
      },
      "execution_count": null,
      "outputs": []
    },
    {
      "cell_type": "markdown",
      "source": [
        "Ques.2 Write a Python program to read the contents of a file and print each line?"
      ],
      "metadata": {
        "id": "VsFmIWhPHzH4"
      }
    },
    {
      "cell_type": "code",
      "source": [
        "with open(\"my_file.txt\", \"r\") as f:\n",
        "    for line in f:\n",
        "        print(line.strip()) # .strip() removes newline characters"
      ],
      "metadata": {
        "id": "OfYegB71P5sf",
        "colab": {
          "base_uri": "https://localhost:8080/"
        },
        "outputId": "f936d36b-b904-4a3d-d459-c7defd691620"
      },
      "execution_count": null,
      "outputs": [
        {
          "output_type": "stream",
          "name": "stdout",
          "text": [
            "Hello, world!\n"
          ]
        }
      ]
    },
    {
      "cell_type": "markdown",
      "source": [
        "Ques.3 How would you handle a case where the file doesn't exist while trying to open it for reading?"
      ],
      "metadata": {
        "id": "UUWpuFhWH7SZ"
      }
    },
    {
      "cell_type": "code",
      "source": [
        "try:\n",
        "    with open(\"non_existent_file.txt\", \"r\") as f:\n",
        "        content = f.read()\n",
        "        print(content)\n",
        "except FileNotFoundError:\n",
        "    print(\"Error: The file does not exist.\")"
      ],
      "metadata": {
        "id": "gIEd-btwQC9_",
        "colab": {
          "base_uri": "https://localhost:8080/"
        },
        "outputId": "48cf68aa-4c31-488f-a1c6-66abc39031ca"
      },
      "execution_count": null,
      "outputs": [
        {
          "output_type": "stream",
          "name": "stdout",
          "text": [
            "Error: The file does not exist.\n"
          ]
        }
      ]
    },
    {
      "cell_type": "markdown",
      "source": [
        "Ques.4 Write a Python script that reads from one file and writes its content to another file?"
      ],
      "metadata": {
        "id": "OOvJ8KQnH8ty"
      }
    },
    {
      "cell_type": "code",
      "source": [
        "try:\n",
        "    with open(\"source.txt\", \"r\") as source_file:\n",
        "        content = source_file.read()\n",
        "    with open(\"destination.txt\", \"w\") as dest_file:\n",
        "        dest_file.write(content)\n",
        "except FileNotFoundError:\n",
        "    print(\"Error: The file 'source.txt' was not found.\")\n",
        "except Exception as e:\n",
        "    print(f\"An unexpected error occurred: {e}\")"
      ],
      "metadata": {
        "id": "5AEUMihgQG9f",
        "colab": {
          "base_uri": "https://localhost:8080/"
        },
        "outputId": "e3f74485-e227-4a62-e226-974408724408"
      },
      "execution_count": null,
      "outputs": [
        {
          "output_type": "stream",
          "name": "stdout",
          "text": [
            "Error: The file 'source.txt' was not found.\n"
          ]
        }
      ]
    },
    {
      "cell_type": "markdown",
      "source": [
        "Ques.5 How would you catch and handle division by zero error in Python?"
      ],
      "metadata": {
        "id": "banYJUSaQHX9"
      }
    },
    {
      "cell_type": "code",
      "source": [
        "try:\n",
        "    result = 10 / 0\n",
        "except ZeroDivisionError:\n",
        "    print(\"Error: Division by zero is not allowed.\")"
      ],
      "metadata": {
        "id": "QSdhtSViQKZT",
        "colab": {
          "base_uri": "https://localhost:8080/"
        },
        "outputId": "1de5d65a-d3ec-4819-edd5-73003b3f2f80"
      },
      "execution_count": null,
      "outputs": [
        {
          "output_type": "stream",
          "name": "stdout",
          "text": [
            "Error: Division by zero is not allowed.\n"
          ]
        }
      ]
    },
    {
      "cell_type": "markdown",
      "source": [
        "Ques.6 Write a Python program that logs an error message to a log file when a division by zero exception occurs?"
      ],
      "metadata": {
        "id": "u3FVqrGzQK04"
      }
    },
    {
      "cell_type": "code",
      "source": [
        "import logging\n",
        "logging.basicConfig(filename='app.log', level=logging.ERROR)\n",
        "try:\n",
        "    result = 10 / 0\n",
        "except ZeroDivisionError:\n",
        "    logging.error(\"Attempted division by zero.\")"
      ],
      "metadata": {
        "id": "Df2RxWgiQMz9",
        "colab": {
          "base_uri": "https://localhost:8080/"
        },
        "outputId": "6eb41c77-50b2-4a47-e114-1c54422f1ffe"
      },
      "execution_count": null,
      "outputs": [
        {
          "output_type": "stream",
          "name": "stderr",
          "text": [
            "ERROR:root:Attempted division by zero.\n"
          ]
        }
      ]
    },
    {
      "cell_type": "markdown",
      "source": [
        "Ques.7 How do you log information at different levels (INFO, ERROR, WARNING) in Python using the logging module?"
      ],
      "metadata": {
        "id": "zQX5QxBEQNio"
      }
    },
    {
      "cell_type": "code",
      "source": [
        "import logging\n",
        "logging.basicConfig(level=logging.INFO) # Set base level to INFO\n",
        "logging.info(\"This is an informational message.\")\n",
        "logging.warning(\"This is a warning message.\")\n",
        "logging.error(\"This is an error message.\")"
      ],
      "metadata": {
        "id": "97p4Mm8sQPCY",
        "colab": {
          "base_uri": "https://localhost:8080/"
        },
        "outputId": "432828c3-4624-42aa-b8fb-c60e44c1b862"
      },
      "execution_count": null,
      "outputs": [
        {
          "output_type": "stream",
          "name": "stderr",
          "text": [
            "WARNING:root:This is a warning message.\n",
            "ERROR:root:This is an error message.\n"
          ]
        }
      ]
    },
    {
      "cell_type": "markdown",
      "source": [
        "Ques.8 Write a program to handle a file opening error using exception handling?"
      ],
      "metadata": {
        "id": "1HRuVdiIQPfb"
      }
    },
    {
      "cell_type": "code",
      "source": [
        "lines = []\n",
        "with open(\"my_file.txt\", \"r\") as f:\n",
        "    for line in f:\n",
        "        lines.append(line.strip())\n",
        "print(lines)"
      ],
      "metadata": {
        "id": "CT_xGgSOQTdF",
        "colab": {
          "base_uri": "https://localhost:8080/"
        },
        "outputId": "c2023039-89c0-461f-defa-275d47dabf8a"
      },
      "execution_count": null,
      "outputs": [
        {
          "output_type": "stream",
          "name": "stdout",
          "text": [
            "['Hello, world!']\n"
          ]
        }
      ]
    },
    {
      "cell_type": "markdown",
      "source": [
        "Ques.9 How can you read a file line by line and store its content in a list in Python?"
      ],
      "metadata": {
        "id": "LXci1-e2QRMS"
      }
    },
    {
      "cell_type": "code",
      "source": [
        "lines = []\n",
        "try:\n",
        "    with open(\"sample.txt\", \"r\") as f:\n",
        "        for line in f:\n",
        "            lines.append(line.strip())\n",
        "    print(lines)\n",
        "except FileNotFoundError:\n",
        "    print(\"Error: The file 'sample.txt' was not found.\")\n",
        "except Exception as e:\n",
        "    print(f\"An unexpected error occurred: {e}\")"
      ],
      "metadata": {
        "id": "bidOnH3UQUxb",
        "colab": {
          "base_uri": "https://localhost:8080/"
        },
        "outputId": "f7e8da13-d3e9-4527-88d1-5e1e3bfb1679"
      },
      "execution_count": null,
      "outputs": [
        {
          "output_type": "stream",
          "name": "stdout",
          "text": [
            "Error: The file 'sample.txt' was not found.\n"
          ]
        }
      ]
    },
    {
      "cell_type": "markdown",
      "source": [
        "Ques.10 How can you append data to an existing file in Python?"
      ],
      "metadata": {
        "id": "iHB55WWxQVcZ"
      }
    },
    {
      "cell_type": "code",
      "source": [
        "with open(\"my_file.txt\", \"a\") as f:\n",
        "    f.write(\"\\nNew appended data.\")"
      ],
      "metadata": {
        "id": "GpgD2N_rQXEZ"
      },
      "execution_count": null,
      "outputs": []
    },
    {
      "cell_type": "markdown",
      "source": [
        "Ques.11 Write a Python program that uses a try-except block to handle an error when attempting to access a\n",
        "dictionary key that doesn't exist?"
      ],
      "metadata": {
        "id": "esWvP2CyQXes"
      }
    },
    {
      "cell_type": "code",
      "source": [
        "my_dict = {\"name\": \"Alice\"}\n",
        "try:\n",
        "    value = my_dict[\"age\"]\n",
        "except KeyError:\n",
        "    print(\"Error: Dictionary key does not exist.\")"
      ],
      "metadata": {
        "id": "nhOB7xzhQZEC",
        "colab": {
          "base_uri": "https://localhost:8080/"
        },
        "outputId": "b254b698-c715-4b73-a4de-aaea30f2dba8"
      },
      "execution_count": null,
      "outputs": [
        {
          "output_type": "stream",
          "name": "stdout",
          "text": [
            "Error: Dictionary key does not exist.\n"
          ]
        }
      ]
    },
    {
      "cell_type": "markdown",
      "source": [
        "Ques.12 Write a program that demonstrates using multiple except blocks to handle different types of exceptions?"
      ],
      "metadata": {
        "id": "zBaPvoTjQZXL"
      }
    },
    {
      "cell_type": "code",
      "source": [
        "try:\n",
        "    # Example that might raise ValueError or ZeroDivisionError\n",
        "    num = int(\"abc\") # This will raise ValueError\n",
        "    # result = 10 / 0 # This would raise ZeroDivisionError\n",
        "except ValueError:\n",
        "    print(\"Caught a ValueError.\")\n",
        "except ZeroDivisionError:\n",
        "    print(\"Caught a ZeroDivisionError.\")"
      ],
      "metadata": {
        "id": "Y8tSwZmSQa5j",
        "colab": {
          "base_uri": "https://localhost:8080/"
        },
        "outputId": "1db4780b-54c5-4d49-f8d7-9f7ec9b1f5bf"
      },
      "execution_count": null,
      "outputs": [
        {
          "output_type": "stream",
          "name": "stdout",
          "text": [
            "Caught a ValueError.\n"
          ]
        }
      ]
    },
    {
      "cell_type": "markdown",
      "source": [
        "Ques.13 How would you check if a file exists before attempting to read it in Python?"
      ],
      "metadata": {
        "id": "kOqJzC39QbON"
      }
    },
    {
      "cell_type": "code",
      "source": [
        "import os\n",
        "if os.path.exists(\"my_file.txt\"):\n",
        "    with open(\"my_file.txt\", \"r\") as f:\n",
        "        content = f.read()\n",
        "        print(content)\n",
        "else:\n",
        "    print(\"File does not exist.\")"
      ],
      "metadata": {
        "id": "Bj_PX2z6QoVT",
        "colab": {
          "base_uri": "https://localhost:8080/"
        },
        "outputId": "9c477a07-9c10-4058-8c26-a81a7b6ad05f"
      },
      "execution_count": null,
      "outputs": [
        {
          "output_type": "stream",
          "name": "stdout",
          "text": [
            "Hello, world!\n",
            "New appended data.\n",
            "New appended data.\n",
            "New appended data.\n"
          ]
        }
      ]
    },
    {
      "cell_type": "markdown",
      "source": [
        "Ques.14 Write a program that uses the logging module to log both informational and error messages?"
      ],
      "metadata": {
        "id": "B2RO7SaXQor8"
      }
    },
    {
      "cell_type": "code",
      "source": [
        "import logging\n",
        "\n",
        "# Configure logging\n",
        "logging.basicConfig(\n",
        "    filename=\"app.log\",           # Log file name\n",
        "    level=logging.DEBUG,          # Minimum level to capture\n",
        "    format=\"%(asctime)s - %(levelname)s - %(message)s\"\n",
        ")\n",
        "\n",
        "# Log informational message\n",
        "logging.info(\"Application started successfully.\")\n",
        "\n",
        "# Simulate some operations\n",
        "try:\n",
        "    number1 = 10\n",
        "    number2 = 0\n",
        "    result = number1 / number2  # This will raise an error\n",
        "    logging.info(f\"Result: {result}\")\n",
        "\n",
        "except ZeroDivisionError:\n",
        "    logging.error(\"Division by zero error occurred!\")\n",
        "\n",
        "# Another info log\n",
        "logging.info(\"Application finished running.\")"
      ],
      "metadata": {
        "colab": {
          "base_uri": "https://localhost:8080/"
        },
        "id": "Lmihcp8fZJaC",
        "outputId": "a7446dfb-ec6b-4ead-8fc2-3f2e6fca82ee"
      },
      "execution_count": null,
      "outputs": [
        {
          "output_type": "stream",
          "name": "stderr",
          "text": [
            "ERROR:root:Division by zero error occurred!\n"
          ]
        }
      ]
    },
    {
      "cell_type": "markdown",
      "source": [
        "Ques.15 Write a Python program that prints the content of a file and handles the case when the file is empty?"
      ],
      "metadata": {
        "id": "PhtBzan7Qsdj"
      }
    },
    {
      "cell_type": "code",
      "source": [
        "with open(\"empty_file.txt\", \"w\") as f: # Create an empty file for demonstration\n",
        "    pass\n",
        "with open(\"empty_file.txt\", \"r\") as f:\n",
        "    content = f.read()\n",
        "    if not content:\n",
        "        print(\"File is empty.\")\n",
        "    else:\n",
        "        print(content)"
      ],
      "metadata": {
        "id": "iAxhWjsIQuFP",
        "colab": {
          "base_uri": "https://localhost:8080/"
        },
        "outputId": "9f4cc304-e28c-4a4c-f4af-c7d2d7dbcb0b"
      },
      "execution_count": null,
      "outputs": [
        {
          "output_type": "stream",
          "name": "stdout",
          "text": [
            "File is empty.\n"
          ]
        }
      ]
    },
    {
      "cell_type": "markdown",
      "source": [
        "Ques.16 Demonstrate how to use memory profiling to check the memory usage of a small program?"
      ],
      "metadata": {
        "id": "lClX2kIaQufL"
      }
    },
    {
      "cell_type": "code",
      "source": [
        "def print_file_content(filename):\n",
        "    try:\n",
        "        with open(filename, 'r') as file:\n",
        "            content = file.read().strip()\n",
        "\n",
        "            if content:  # if file is not empty\n",
        "                print(\"File Content:\\n\")\n",
        "                print(content)\n",
        "            else:  # if file is empty\n",
        "                print(\"The file is empty.\")\n",
        "    except FileNotFoundError:\n",
        "        print(f\"Error: The file '{filename}' does not exist.\")\n",
        "    except Exception as e:\n",
        "        print(f\"An unexpected error occurred: {e}\")\n",
        "filename = \"example.txt\"\n",
        "print_file_content(filename)"
      ],
      "metadata": {
        "id": "bTNfeaE-Qwbw",
        "colab": {
          "base_uri": "https://localhost:8080/"
        },
        "outputId": "02d88875-99d2-44e5-b730-2622d07a546e"
      },
      "execution_count": null,
      "outputs": [
        {
          "output_type": "stream",
          "name": "stdout",
          "text": [
            "Error: The file 'example.txt' does not exist.\n"
          ]
        }
      ]
    },
    {
      "cell_type": "markdown",
      "source": [
        "Ques.17 Write a Python program to create and write a list of numbers to a file, one number per line?\n"
      ],
      "metadata": {
        "id": "pfFH9PvsQxFA"
      }
    },
    {
      "cell_type": "code",
      "source": [
        "numbers = [1, 2, 3, 4, 5]\n",
        "with open(\"numbers.txt\", \"w\") as f:\n",
        "    for num in numbers:\n",
        "        f.write(str(num) + \"\\n\")\n"
      ],
      "metadata": {
        "id": "0H0Cl_GfQzIX"
      },
      "execution_count": null,
      "outputs": []
    },
    {
      "cell_type": "markdown",
      "source": [
        "Ques.18 How would you implement a basic logging setup that logs to a file with rotation after 1MB?"
      ],
      "metadata": {
        "id": "_nOZyfEjQzj_"
      }
    },
    {
      "cell_type": "code",
      "source": [
        "import logging\n",
        "from logging.handlers import RotatingFileHandler\n",
        "\n",
        "log_file = 'rotated_log.log'\n",
        "max_bytes = 1024 * 1024 # 1 MB\n",
        "backup_count = 5 # Keep up to 5 old log files\n",
        "\n",
        "handler = RotatingFileHandler(log_file, maxBytes=max_bytes, backupCount=backup_count)\n",
        "logging.basicConfig(level=logging.INFO, handlers=[handler])\n",
        "\n",
        "logging.info(\"This is a log message.\")"
      ],
      "metadata": {
        "id": "cMORcit3Q2o2"
      },
      "execution_count": null,
      "outputs": []
    },
    {
      "cell_type": "markdown",
      "source": [
        "Ques.19 Write a program that handles both IndexError and KeyError using a try-except block?"
      ],
      "metadata": {
        "id": "aUG9kw3DQ3A9"
      }
    },
    {
      "cell_type": "code",
      "source": [
        "my_list = [1, 2, 3]\n",
        "my_dict = {\"a\": 1}\n",
        "try:\n",
        "    print(my_list[5]) # IndexError\n",
        "    print(my_dict[\"b\"]) # KeyError\n",
        "except IndexError:\n",
        "    print(\"Caught an IndexError.\")\n",
        "except KeyError:\n",
        "    print(\"Caught a KeyError.\")"
      ],
      "metadata": {
        "id": "rsHWWlpIQ5hl",
        "colab": {
          "base_uri": "https://localhost:8080/"
        },
        "outputId": "cd9c63ec-40a2-49ec-8426-114938d31140"
      },
      "execution_count": null,
      "outputs": [
        {
          "output_type": "stream",
          "name": "stdout",
          "text": [
            "Caught an IndexError.\n"
          ]
        }
      ]
    },
    {
      "cell_type": "markdown",
      "source": [
        "Ques.20 How would you open a file and read its contents using a context manager in Python?"
      ],
      "metadata": {
        "id": "xvyUZ43gQ6IN"
      }
    },
    {
      "cell_type": "code",
      "source": [
        "with open(\"my_file.txt\", \"r\") as f:\n",
        "    content = f.read()\n",
        "    print(content)"
      ],
      "metadata": {
        "id": "97pFe0HQQ8Oe",
        "colab": {
          "base_uri": "https://localhost:8080/"
        },
        "outputId": "6e2b2af6-b427-404c-9417-02ea6507fb61"
      },
      "execution_count": null,
      "outputs": [
        {
          "output_type": "stream",
          "name": "stdout",
          "text": [
            "Hello, world!\n",
            "New appended data.\n",
            "New appended data.\n",
            "New appended data.\n"
          ]
        }
      ]
    },
    {
      "cell_type": "markdown",
      "source": [
        "Ques.21 Write a Python program that reads a file and prints the number of occurrences of a specific word?"
      ],
      "metadata": {
        "id": "uT4O9N3kQ8sX"
      }
    },
    {
      "cell_type": "code",
      "source": [
        "from collections import Counter\n",
        "word_to_find = \"example\"\n",
        "with open(\"my_file.txt\", \"r\") as f:\n",
        "    content = f.read().lower()\n",
        "    words = content.split()\n",
        "    word_counts = Counter(words)\n",
        "    print(f\"The word '{word_to_find}' appears {word_counts[word_to_find]} times.\")"
      ],
      "metadata": {
        "id": "29NuIH_fQ-Ee",
        "colab": {
          "base_uri": "https://localhost:8080/"
        },
        "outputId": "1923ea45-2aef-42bd-a2d1-0c818c41165f"
      },
      "execution_count": null,
      "outputs": [
        {
          "output_type": "stream",
          "name": "stdout",
          "text": [
            "The word 'example' appears 0 times.\n"
          ]
        }
      ]
    },
    {
      "cell_type": "markdown",
      "source": [
        "Ques.22 How can you check if a file is empty before attempting to read its contents?\n"
      ],
      "metadata": {
        "id": "xW3YcOo8Q-c-"
      }
    },
    {
      "cell_type": "code",
      "source": [
        "import os\n",
        "file_path = \"my_file.txt\"\n",
        "if os.path.exists(file_path) and os.path.getsize(file_path) == 0:\n",
        "    print(\"File is empty.\")\n",
        "else:\n",
        "    print(\"File is not empty or does not exist.\")"
      ],
      "metadata": {
        "id": "wpz1BFKpQ_wU",
        "colab": {
          "base_uri": "https://localhost:8080/"
        },
        "outputId": "c834fa32-90bc-4a9a-bcf6-48fcd0d9ae6b"
      },
      "execution_count": null,
      "outputs": [
        {
          "output_type": "stream",
          "name": "stdout",
          "text": [
            "File is not empty or does not exist.\n"
          ]
        }
      ]
    },
    {
      "cell_type": "markdown",
      "source": [
        "Ques.23 Write a Python program that writes to a log file when an error occurs during file handling?"
      ],
      "metadata": {
        "id": "DrV2fph3RAWB"
      }
    },
    {
      "cell_type": "code",
      "source": [
        "import logging\n",
        "\n",
        "# Configure logging\n",
        "logging.basicConfig(\n",
        "    filename=\"file_errors.log\",\n",
        "    level=logging.ERROR,\n",
        "    format=\"%(asctime)s - %(levelname)s - %(message)s\"\n",
        ")\n",
        "\n",
        "try:\n",
        "    # Trying to open a file that might not exist\n",
        "    with open(\"non_existent_file.txt\", \"r\") as file:\n",
        "        data = file.read()\n",
        "\n",
        "except FileNotFoundError as e:\n",
        "    logging.error(f\"File not found: {e}\")\n",
        "\n",
        "except PermissionError as e:\n",
        "    logging.error(f\"Permission denied: {e}\")\n",
        "\n",
        "except Exception as e:\n",
        "    logging.error(f\"Unexpected error: {e}\")"
      ],
      "metadata": {
        "colab": {
          "base_uri": "https://localhost:8080/"
        },
        "id": "0vRHP_dlazPf",
        "outputId": "404dde01-58d4-4ad4-b048-b04ba326cd48"
      },
      "execution_count": null,
      "outputs": [
        {
          "output_type": "stream",
          "name": "stderr",
          "text": [
            "ERROR:root:File not found: [Errno 2] No such file or directory: 'non_existent_file.txt'\n"
          ]
        }
      ]
    }
  ]
}