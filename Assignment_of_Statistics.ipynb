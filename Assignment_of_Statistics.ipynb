{
  "nbformat": 4,
  "nbformat_minor": 0,
  "metadata": {
    "colab": {
      "provenance": []
    },
    "kernelspec": {
      "name": "python3",
      "display_name": "Python 3"
    },
    "language_info": {
      "name": "python"
    }
  },
  "cells": [
    {
      "cell_type": "markdown",
      "source": [
        "Assignment Code: DS-AG-005\n"
      ],
      "metadata": {
        "id": "19gmvH25FxJq"
      }
    },
    {
      "cell_type": "markdown",
      "source": [
        "Statistics Basics| Assignment"
      ],
      "metadata": {
        "id": "hRzGr33wF8dn"
      }
    },
    {
      "cell_type": "markdown",
      "source": [
        "Ques.1 What is the difference between descriptive statistics and inferential\n",
        "statistics? Explain with examples?\n"
      ],
      "metadata": {
        "id": "NfqMoEm8F_1g"
      }
    },
    {
      "cell_type": "markdown",
      "source": [
        "Ans: **Descriptive statistics** aims to summarize and describe the main features of a dataset. It focuses on presenting, organizing, and summarizing data in a meaningful way, often using measures like mean, median, mode, standard deviation, and frequency distributions. It does not involve making generalizations or predictions beyond the observed data.\n",
        "\n",
        "\n",
        "\n",
        "**Inferential statistics**, on the other hand, involves drawing conclusions or making inferences about a larger population based on a sample of data. It uses probability theory to generalize findings from a sample to the entire population, often involving hypothesis testing, confidence intervals, and regression analysis.\n",
        "**Examples:**\n",
        "\n",
        "\n",
        "\n",
        "**Descriptive Statistics** Example: Calculating the average height of students in a particular classroom. This only describes the heights within that specific classroom.\n",
        "\n",
        "\n",
        "\n",
        "**Inferential Statistics** Example: Taking a sample of students' heights from a school and using that sample to estimate the average height of all students in the entire school. This involves inferring about a larger population based on a sample."
      ],
      "metadata": {
        "id": "aQ9eEAQqGHj1"
      }
    },
    {
      "cell_type": "markdown",
      "source": [
        "Ques.2 What is sampling in statistics? Explain the differences between random\n",
        "and stratified sampling?"
      ],
      "metadata": {
        "id": "5Vtagq6XGJRb"
      }
    },
    {
      "cell_type": "markdown",
      "source": [
        "Ans: **Sampling in statistics** is the process of selecting a subset (a sample) of individuals or items from a larger group (a population) to gather information and make inferences about the entire population. It is used when it's impractical or impossible to study every member of a population.\n",
        "\n",
        "\n",
        "**Differences between Random and Stratified Sampling**:\n",
        "*Random Sampling*: In random sampling, every member of the population has an equal and independent chance of being selected for the sample. This method aims to create a sample that is representative of the entire population without any bias. Examples include simple random sampling (drawing names from a hat) or systematic random sampling (selecting every nth person from a list).\n",
        "*Stratified Sampling*: Stratified sampling involves dividing the population into distinct subgroups or \"strata\" based on shared characteristics (e.g., age, gender, income level). Then, a random sample is drawn from each stratum in proportion to its size in the population. This method ensures that all important subgroups are represented in the sample, which can be particularly useful when there are significant differences between subgroups within the population\n"
      ],
      "metadata": {
        "id": "c_CFoUhWGNaY"
      }
    },
    {
      "cell_type": "markdown",
      "source": [
        "Ques.3 Define mean, median, and mode. Explain why these measures of central\n",
        "tendency are important?"
      ],
      "metadata": {
        "id": "eP9q7-yVGOyQ"
      }
    },
    {
      "cell_type": "markdown",
      "source": [
        "Ans:"
      ],
      "metadata": {
        "id": "_wFe-ZR2GSrp"
      }
    },
    {
      "cell_type": "markdown",
      "source": [
        "Ques.4 : Explain skewness and kurtosis. What does a positive skew imply about the data?"
      ],
      "metadata": {
        "id": "KjnY6YsrGQZ7"
      }
    },
    {
      "cell_type": "markdown",
      "source": [
        "Ans: **Skewness** is a measure of the asymmetry of a probability distribution. It indicates whether the data points are more spread out on one side of the mean than the other.\n",
        "\n",
        "**Kurtosis** measures the \"tailedness\" or the presence of outliers in a distribution, indicating the peakedness or flatness of the distribution relative to a normal distribution.\n",
        "\n",
        "**A positive skew** (or right skew) implies that the tail of the distribution is stretched on the right side, meaning most values lie to the left of the mean. In a positively skewed distribution, the mean is typically greater than the median, which is greater than the mode (Mean > Median > Mode)\n"
      ],
      "metadata": {
        "id": "btTI-fhrGome"
      }
    },
    {
      "cell_type": "markdown",
      "source": [
        "Ques.5 : Implement a Python program to compute the mean, median, and mode of\n",
        "a given list of numbers.\n",
        "numbers = [12, 15, 12, 18, 19, 12, 20, 22, 19, 19, 24, 24, 24, 26, 28]"
      ],
      "metadata": {
        "id": "cCQQyc8oGqiz"
      }
    },
    {
      "cell_type": "code",
      "source": [
        "import statistics\n",
        "\n",
        "numbers = [12, 15, 12, 18, 19, 12, 20, 22, 19, 19, 24, 24, 24, 26, 28]\n",
        "\n",
        "# Calculate Mean\n",
        "mean_value = statistics.mean(numbers)\n",
        "\n",
        "# Calculate Median\n",
        "median_value = statistics.median(numbers)\n",
        "\n",
        "# Calculate Mode\n",
        "mode_value = statistics.mode(numbers)\n",
        "\n",
        "print(f\"Given list of numbers: {numbers}\")\n",
        "print(f\"Mean: {mean_value}\")\n",
        "print(f\"Median: {median_value}\")\n",
        "print(f\"Mode: {mode_value}\")"
      ],
      "metadata": {
        "colab": {
          "base_uri": "https://localhost:8080/"
        },
        "id": "CSnxTwLgHB9V",
        "outputId": "4cf2fa77-d253-41de-9b80-469bc743ab59"
      },
      "execution_count": 1,
      "outputs": [
        {
          "output_type": "stream",
          "name": "stdout",
          "text": [
            "Given list of numbers: [12, 15, 12, 18, 19, 12, 20, 22, 19, 19, 24, 24, 24, 26, 28]\n",
            "Mean: 19.6\n",
            "Median: 19\n",
            "Mode: 12\n"
          ]
        }
      ]
    },
    {
      "cell_type": "markdown",
      "source": [
        "Ques.6 Compute the covariance and correlation coefficient between the following\n",
        "two datasets provided as lists in Python:\n",
        "list_x = [10, 20, 30, 40, 50]\n",
        "list_y = [15, 25, 35, 45, 60]"
      ],
      "metadata": {
        "id": "SpFiKuaZHCyy"
      }
    },
    {
      "cell_type": "markdown",
      "source": [
        " Ans: There are the 4 steps of computing covariance and correlation coefficient\"\n",
        "\n",
        "Step 1: Calculate the means of list_x and list_y\n",
        "The mean of a dataset is the sum of its elements divided by the number of elements.\n",
        "\n",
        "Step 2: Calculate the covariance                Covariance measures how two variables change together. The formula for covariance is:                \\(\\text{Cov}(x,y)=\\frac{\\sum (x_{i}-\\={x})(y_{i}-\\={y})}{n-1}\\)\n",
        "\n",
        "Step 3: Calculate the standard deviations                The standard deviation measures the spread of data points around the mean. The formula for sample standard deviation is:                \\(s=\\sqrt{\\frac{\\sum (x_{i}-\\={x})^{2}}{n-1}}\\)\n",
        "\n",
        "\n",
        "Step 4: Calculate the correlation coefficient                The correlation coefficient (r) measures the strength and direction of a linear relationship between two variables. The formula is:                \\(r=\\frac{\\text{Cov}(x,y)}{s_{x}s_{y}}\\)\n",
        "\n",
        "\n",
        "\n",
        "\n",
        "\n",
        "By following there above steps you will be find your answer very easily;\n",
        "\n",
        "The answer is:\n",
        "      \n",
        "     ** The covariance between** list\\_x and list\\_y is \\(\\mathbf{275}\\).\n",
        "      \n",
        "      \n",
        "       **The correlation coefficient between** list\\_x and list\\_y is approximately \\(\\mathbf{0.996}\\).\n",
        "\n",
        "\n",
        "\n"
      ],
      "metadata": {
        "id": "Vf2XduEYLMea"
      }
    },
    {
      "cell_type": "markdown",
      "source": [
        "Ques.7 : Write a Python script to draw a boxplot for the following numeric list and\n",
        "identify its outliers. Explain the result:\n",
        "data = [12, 14, 14, 15, 18, 19, 19, 21, 22, 22, 23, 23, 24, 26, 29, 35]"
      ],
      "metadata": {
        "id": "JNfup1dmHKVm"
      }
    },
    {
      "cell_type": "code",
      "source": [
        "import matplotlib.pyplot as plt\n",
        "import numpy as np\n",
        "\n",
        "data = [12, 14, 14, 15, 18, 19, 19, 21, 22, 22, 23, 23, 24, 26, 29, 35]\n",
        "\n",
        "plt.boxplot(data)\n",
        "plt.title('Boxplot of Numeric List')\n",
        "plt.ylabel('Values')\n",
        "plt.show()\n",
        "\n",
        "# To programmatically identify outliers\n",
        "Q1 = np.percentile(data, 25)\n",
        "Q3 = np.percentile(data, 75)\n",
        "IQR = Q3 - Q1\n",
        "lower_bound = Q1 - 1.5 * IQR\n",
        "upper_bound = Q3 + 1.5 * IQR\n",
        "\n",
        "outliers = [x for x in data if x < lower_bound or x > upper_bound]\n",
        "print(f\"Calculated Outliers: {outliers}\")"
      ],
      "metadata": {
        "colab": {
          "base_uri": "https://localhost:8080/",
          "height": 469
        },
        "id": "SQJV9EiwHPX1",
        "outputId": "10138d93-845f-4315-a1a6-d27b281973c2"
      },
      "execution_count": 2,
      "outputs": [
        {
          "output_type": "display_data",
          "data": {
            "text/plain": [
              "<Figure size 640x480 with 1 Axes>"
            ],
            "image/png": "[encoded data removed]"
          },
          "metadata": {}
        },
        {
          "output_type": "stream",
          "name": "stdout",
          "text": [
            "Calculated Outliers: [35]\n"
          ]
        }
      ]
    },
    {
      "cell_type": "markdown",
      "source": [
        "Ques.8 You are working as a data analyst in an e-commerce company. The\n",
        "marketing team wants to know if there is a relationship between advertising spend and\n",
        "daily sales.\n",
        "● Explain how you would use covariance and correlation to explore this\n",
        "relationship.\n",
        "● Write Python code to compute the correlation between the two lists:\n",
        "advertising_spend = [200, 250, 300, 400, 500]\n",
        "daily_sales = [2200, 2450, 2750, 3200, 4000]"
      ],
      "metadata": {
        "id": "2CTxdmiGHOPC"
      }
    },
    {
      "cell_type": "code",
      "source": [
        "import numpy as np\n",
        "\n",
        "advertising_spend = [200, 250, 300, 400, 500]\n",
        "daily_sales = [2200, 2450, 2750, 3200, 4000]\n",
        "\n",
        "# Calculate the Pearson correlation coefficient\n",
        "correlation_coefficient = np.corrcoef(advertising_spend, daily_sales)[0, 1]\n",
        "\n",
        "print(f\"The correlation between advertising spend and daily sales is: {correlation_coefficient}\")"
      ],
      "metadata": {
        "colab": {
          "base_uri": "https://localhost:8080/"
        },
        "id": "9qfZ8n-nHbBX",
        "outputId": "0c53a7d2-6bfd-467a-e905-289ef3e48664"
      },
      "execution_count": 3,
      "outputs": [
        {
          "output_type": "stream",
          "name": "stdout",
          "text": [
            "The correlation between advertising spend and daily sales is: 0.9935824101653329\n"
          ]
        }
      ]
    },
    {
      "cell_type": "markdown",
      "source": [
        "Ques.9 : Your team has collected customer satisfaction survey data on a scale of\n",
        "1-10 and wants to understand its distribution before launching a new product.\n",
        "● Explain which summary statistics and visualizations (e.g. mean, standard\n",
        "deviation, histogram) you’d use.\n",
        "● Write Python code to create a histogram using Matplotlib for the survey data:\n",
        "survey_scores = [7, 8, 5, 9, 6, 7, 8, 9, 10, 4, 7, 6, 9, 8, 7]"
      ],
      "metadata": {
        "id": "8T0Mw3LyHbqP"
      }
    },
    {
      "cell_type": "code",
      "source": [
        "import matplotlib.pyplot as plt\n",
        "\n",
        "survey_scores = [7, 8, 5, 9, 6, 7, 8, 9, 10, 4, 7, 6, 9, 8, 7]\n",
        "\n",
        "plt.hist(survey_scores, bins=range(4, 12), edgecolor='black', align='left')\n",
        "plt.xlabel('Customer Satisfaction Score (1-10)')\n",
        "plt.ylabel('Frequency')\n",
        "plt.title('Distribution of Customer Satisfaction Survey Scores')\n",
        "plt.xticks(range(4, 11)) # Ensure x-axis ticks cover the 1-10 scale\n",
        "plt.grid(axis='y', alpha=0.75)\n",
        "plt.show()"
      ],
      "metadata": {
        "colab": {
          "base_uri": "https://localhost:8080/",
          "height": 472
        },
        "id": "Sni-H0ybHjST",
        "outputId": "2a0de184-4e5a-4587-b0ec-236f214d988c"
      },
      "execution_count": 4,
      "outputs": [
        {
          "output_type": "display_data",
          "data": {
            "text/plain": [
              "<Figure size 640x480 with 1 Axes>"
            ],
            "image/png": "[encoded data removed]"
          },
          "metadata": {}
        }
      ]
    },
    {
      "cell_type": "code",
      "source": [],
      "metadata": {
        "id": "uf3PQGkyPUa7"
      },
      "execution_count": null,
      "outputs": []
    }
  ]
}