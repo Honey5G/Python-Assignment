{
  "nbformat": 4,
  "nbformat_minor": 0,
  "metadata": {
    "colab": {
      "provenance": []
    },
    "kernelspec": {
      "name": "python3",
      "display_name": "Python 3"
    },
    "language_info": {
      "name": "python"
    }
  },
  "cells": [
    {
      "cell_type": "markdown",
      "source": [
        "ASSIGNMENT OF OPPS....."
      ],
      "metadata": {
        "id": "enP1A2BlzSYI"
      }
    },
    {
      "cell_type": "markdown",
      "source": [
        "Ques.1 What is Object-Oriented Programming (OOP)?"
      ],
      "metadata": {
        "id": "6QkV8-fBT6sQ"
      }
    },
    {
      "cell_type": "markdown",
      "source": [
        "Ans: OOP is a programming paradigm that organizes code using classes and objects. It models real-world entities and focuses on concepts like inheritance, encapsulation, abstraction, and polymorphism."
      ],
      "metadata": {
        "id": "6lDu-DQxULAc"
      }
    },
    {
      "cell_type": "markdown",
      "source": [
        "Ques.2 What is a class in OOP?"
      ],
      "metadata": {
        "id": "G9DC1NavXWBH"
      }
    },
    {
      "cell_type": "markdown",
      "source": [
        "Ans: A class is a blueprint for creating objects. It defines attributes (variables) and methods (functions) that the objects created from the class will have.\n",
        "\n"
      ],
      "metadata": {
        "id": "5A4nffMfXlfD"
      }
    },
    {
      "cell_type": "code",
      "source": [
        "class Dog:\n",
        "    def bark(self):\n",
        "        print(\"Woof!\")"
      ],
      "metadata": {
        "id": "kUwHN68QXybu"
      },
      "execution_count": 1,
      "outputs": []
    },
    {
      "cell_type": "markdown",
      "source": [
        "Ques.3 What is an object in OOP?\n"
      ],
      "metadata": {
        "id": "c7OcJUWzX1hG"
      }
    },
    {
      "cell_type": "markdown",
      "source": [
        "Ans: An object is an instance of a class. It represents a specific implementation of the class with actual values.\n"
      ],
      "metadata": {
        "id": "fnw1SH1rX_UD"
      }
    },
    {
      "cell_type": "code",
      "source": [
        "dog1 = Dog()  # dog1 is an object of class Dog"
      ],
      "metadata": {
        "id": "-Ymwhy7iYGwB"
      },
      "execution_count": 2,
      "outputs": []
    },
    {
      "cell_type": "markdown",
      "source": [
        "Ques: 4 What is the difference between abstraction and encapsulation?\n"
      ],
      "metadata": {
        "id": "T8jCIWPoYSO1"
      }
    },
    {
      "cell_type": "markdown",
      "source": [
        "Ans: Abstraction: Hides implementation details and shows only essential features (focus on what it does).\n",
        "\n",
        "Encapsulation: Binds data and methods together and restricts access (focus on how it's done, using private/protected members)."
      ],
      "metadata": {
        "id": "p6pEulICYXmE"
      }
    },
    {
      "cell_type": "markdown",
      "source": [
        "Ques. 5 H What are dunder methods in Python?"
      ],
      "metadata": {
        "id": "Msj1RyODXt4U"
      }
    },
    {
      "cell_type": "markdown",
      "source": [
        "Ans: Dunder methods (double underscore methods), like _init, __str_, etc., are special methods with double underscores used to define behavior of objects (also known as magic methods)."
      ],
      "metadata": {
        "id": "pDRvFa_AYlwd"
      }
    },
    {
      "cell_type": "markdown",
      "source": [
        "Ques.6  Explain the concept of inheritance in OOP?\n"
      ],
      "metadata": {
        "id": "tzoW4WGOYzg1"
      }
    },
    {
      "cell_type": "markdown",
      "source": [
        "Ans: Inheritance allows one class (child/subclass) to inherit properties and methods from another class (parent/base class), promoting code reuse.\n",
        "\n"
      ],
      "metadata": {
        "id": "HSa2N3u4Y_Re"
      }
    },
    {
      "cell_type": "code",
      "execution_count": 3,
      "metadata": {
        "id": "M2MX1RAaTos6"
      },
      "outputs": [],
      "source": [
        "class Animal:\n",
        "    def speak(self):\n",
        "        print(\"Animal speaks\")\n",
        "\n",
        "class Dog(Animal):\n",
        "    pass"
      ]
    },
    {
      "cell_type": "markdown",
      "source": [
        "Ques.7 H What is polymorphism in OOP?\n"
      ],
      "metadata": {
        "id": "oyrTR0CfZYxX"
      }
    },
    {
      "cell_type": "markdown",
      "source": [
        "Ans: Polymorphism means many forms—the same method or function can behave differently based on the object or context."
      ],
      "metadata": {
        "id": "d-nqExqjZfLy"
      }
    },
    {
      "cell_type": "code",
      "source": [
        "class Cat:\n",
        "    def sound(self):\n",
        "        print(\"Meow\")\n",
        "\n",
        "class Dog:\n",
        "    def sound(self):\n",
        "        print(\"Woof\")\n",
        "\n",
        "def make_sound(animal):\n",
        "    animal.sound()"
      ],
      "metadata": {
        "id": "d0-DhBHRZuJJ"
      },
      "execution_count": null,
      "outputs": []
    },
    {
      "cell_type": "markdown",
      "source": [
        "Ques.8 How is encapsulation achieved in Python?"
      ],
      "metadata": {
        "id": "0bazsNGTZxen"
      }
    },
    {
      "cell_type": "markdown",
      "source": [
        "Ans: Ans: By using private (__var) and protected (_var) members, encapsulation restricts access to class data.\n",
        "\n",
        " def _init_(self):\n",
        "        self.__speed = 0  # private variable"
      ],
      "metadata": {
        "id": "JPKBiNMBaJja"
      }
    },
    {
      "cell_type": "markdown",
      "source": [
        "Ques.9 H What is a constructor in Python?\n",
        "\n"
      ],
      "metadata": {
        "id": "oYgGLI_paGJR"
      }
    },
    {
      "cell_type": "markdown",
      "source": [
        "Ans: A constructor is a special method called _init_() used to initialize objects when they are created.\n"
      ],
      "metadata": {
        "id": "5UEr1ITHbUBh"
      }
    },
    {
      "cell_type": "code",
      "source": [
        "class Person:\n",
        "    def _init_(self, name):\n",
        "        self.name = name"
      ],
      "metadata": {
        "id": "0NmAmjfBZVsa"
      },
      "execution_count": 5,
      "outputs": []
    },
    {
      "cell_type": "markdown",
      "source": [
        "Ques. 10  What are class and static methods in Python?\n"
      ],
      "metadata": {
        "id": "Lv97SNMKbz2M"
      }
    },
    {
      "cell_type": "markdown",
      "source": [
        "Ans: Class method: Uses @classmethod and has access to the class, not the instance.\n",
        "\n",
        "Static method: Uses @staticmethod, and has no access to class or instance.\n",
        "\n",
        "\n",
        "class Example:\n",
        "    @classmethod\n",
        "    def cls_method(cls): pass\n",
        "\n",
        "    @staticmethod\n",
        "    def static_method(): pass"
      ],
      "metadata": {
        "id": "0vagervyb91J"
      }
    },
    {
      "cell_type": "markdown",
      "source": [
        "Ques.11 What is method overloading in Python?"
      ],
      "metadata": {
        "id": "7jwYzDrtcGQF"
      }
    },
    {
      "cell_type": "markdown",
      "source": [
        "Ans: Python does not support traditional method overloading. Instead, default arguments or args/*kwargs are used to simulate it.\n"
      ],
      "metadata": {
        "id": "_fb83ABfcZ55"
      }
    },
    {
      "cell_type": "code",
      "source": [
        "def greet(name=None):\n",
        "    if name:\n",
        "        print(\"Hello\", name)\n",
        "    else:\n",
        "        print(\"Hello\")"
      ],
      "metadata": {
        "id": "8mTUP4C3cd5W"
      },
      "execution_count": 6,
      "outputs": []
    },
    {
      "cell_type": "markdown",
      "source": [
        "Ques.12 What is method overriding in OOP?\n"
      ],
      "metadata": {
        "id": "w86NKXYFcjpk"
      }
    },
    {
      "cell_type": "markdown",
      "source": [
        "Ans: Method overriding allows a subclass to provide a specific implementation of a method already defined in its parent class.\n"
      ],
      "metadata": {
        "id": "zB4p8FYGcwdn"
      }
    },
    {
      "cell_type": "code",
      "source": [
        "class Parent:\n",
        "    def show(self):\n",
        "        print(\"Parent\")\n",
        "\n",
        "class Child(Parent):\n",
        "    def show(self):  # Overrides parent's show\n",
        "        print(\"Child\")"
      ],
      "metadata": {
        "id": "9VxzIuaWcf4h"
      },
      "execution_count": null,
      "outputs": []
    },
    {
      "cell_type": "markdown",
      "source": [
        "Ques.13  What is a property decorator in Python?\n"
      ],
      "metadata": {
        "id": "UrcMFXcdc-R2"
      }
    },
    {
      "cell_type": "markdown",
      "source": [
        "Ans: property is used to define getter methods that act like attributes. It’s a way to implement controlled access to private variables.\n"
      ],
      "metadata": {
        "id": "LbpqA2GPdKM_"
      }
    },
    {
      "cell_type": "code",
      "source": [
        "class Circle:\n",
        "    def _init_(self, radius):\n",
        "        self._radius = radius\n",
        "\n",
        "    @property\n",
        "    def radius(self):\n",
        "        return self._radius"
      ],
      "metadata": {
        "id": "IxhjZZS9dZ9R"
      },
      "execution_count": null,
      "outputs": []
    },
    {
      "cell_type": "markdown",
      "source": [
        "Ques.14 Why is polymorphism important in OOP?\n"
      ],
      "metadata": {
        "id": "mWffe3_KdbMU"
      }
    },
    {
      "cell_type": "markdown",
      "source": [
        "Ans: It allows code reusability and flexibility. The same interface can work with different types of objects, reducing duplication."
      ],
      "metadata": {
        "id": "PUVbC-cvdqd1"
      }
    },
    {
      "cell_type": "markdown",
      "source": [
        "Ques.15  What is an abstract class in Python?\n"
      ],
      "metadata": {
        "id": "DwmssupDd1Fp"
      }
    },
    {
      "cell_type": "markdown",
      "source": [
        "Ans: An abstract class cannot be instantiated. It contains one or more abstract methods (declared but not implemented). Use the abc module.\n"
      ],
      "metadata": {
        "id": "wlOuA8_NeDYU"
      }
    },
    {
      "cell_type": "code",
      "source": [
        "from abc import ABC, abstractmethod\n",
        "\n",
        "class Animal(ABC):\n",
        "    @abstractmethod\n",
        "    def sound(self): pass"
      ],
      "metadata": {
        "id": "_F4f394ceOlr"
      },
      "execution_count": 7,
      "outputs": []
    },
    {
      "cell_type": "markdown",
      "source": [
        "Ques.16 What are the advantages of OOP?\n"
      ],
      "metadata": {
        "id": "PkvPe4UkeTuf"
      }
    },
    {
      "cell_type": "markdown",
      "source": [
        "Ans: Code reusability (inheritance)\n",
        "\n",
        "Easier debugging and maintenance\n",
        "\n",
        "Data hiding (encapsulation)\n",
        "\n",
        "Flexibility (polymorphism)\n",
        "\n",
        "Real-world modeling"
      ],
      "metadata": {
        "id": "gypMWgnAeaEM"
      }
    },
    {
      "cell_type": "markdown",
      "source": [
        "Ques.17  What is the difference between a class variable and an instance variable?\n"
      ],
      "metadata": {
        "id": "EVkcdvQLeiwF"
      }
    },
    {
      "cell_type": "markdown",
      "source": [
        "Ans: Class variable: Shared by all objects of the class.\n",
        "\n",
        "Instance variable: Unique to each object.\n"
      ],
      "metadata": {
        "id": "lszwQk_0eqYo"
      }
    },
    {
      "cell_type": "code",
      "source": [
        "class A:\n",
        "    class_var = 10\n",
        "    def _init_(self):\n",
        "        self.instance_var = 20"
      ],
      "metadata": {
        "id": "7YKZuPToe5am"
      },
      "execution_count": 8,
      "outputs": []
    },
    {
      "cell_type": "markdown",
      "source": [
        "Ques.18 What is multiple inheritance in Python?\n"
      ],
      "metadata": {
        "id": "4PU3bokpe9XZ"
      }
    },
    {
      "cell_type": "markdown",
      "source": [
        "Ans: When a class inherits from more than one parent class, it is called multiple inheritance.\n"
      ],
      "metadata": {
        "id": "warrn3AUfFpT"
      }
    },
    {
      "cell_type": "code",
      "source": [
        "class A: pass\n",
        "class B: pass\n",
        "class C(A, B): pass"
      ],
      "metadata": {
        "id": "dpLijguXf72n"
      },
      "execution_count": 9,
      "outputs": []
    },
    {
      "cell_type": "markdown",
      "source": [
        "Ques.19  Explain the purpose of ‘’__str__’ and ‘__repr__’ ‘ methods in Python?"
      ],
      "metadata": {
        "id": "d7AIt_pceN29"
      }
    },
    {
      "cell_type": "markdown",
      "source": [
        "Ans: _str_: Returns a user-friendly string (used by print()).\n",
        "\n",
        "_repr_: Returns a developer-friendly string (used in debugging).\n",
        "\n"
      ],
      "metadata": {
        "id": "iv0amLXAgV74"
      }
    },
    {
      "cell_type": "code",
      "source": [
        "class Book:\n",
        "    def _str_(self):\n",
        "        return \"Book for reading\"\n",
        "\n",
        "    def _repr_(self):\n",
        "        return \"Book()\""
      ],
      "metadata": {
        "id": "zuZCMRjpgqcg"
      },
      "execution_count": 10,
      "outputs": []
    },
    {
      "cell_type": "markdown",
      "source": [
        "Ques.20  What is the significance of the ‘super()’ function in Python?\n",
        ""
      ],
      "metadata": {
        "id": "T901w46ZgsmI"
      }
    },
    {
      "cell_type": "markdown",
      "source": [
        "Ans: super() is used to call methods of a parent class from the child class, especially useful in inheritance.\n"
      ],
      "metadata": {
        "id": "SX1bscbuhbyf"
      }
    },
    {
      "cell_type": "code",
      "source": [
        "class Parent:\n",
        "    def show(self):\n",
        "        print(\"Parent class\")\n",
        "\n",
        "class Child(Parent):\n",
        "    def show(self):\n",
        "        super().show()\n",
        "        print(\"Child class\")\n",
        "\n",
        "obj = Child()\n",
        "obj.show()"
      ],
      "metadata": {
        "colab": {
          "base_uri": "https://localhost:8080/"
        },
        "id": "SRDcs1snjYwc",
        "outputId": "ce346883-e763-4811-a253-be8a5e7bef8a"
      },
      "execution_count": 11,
      "outputs": [
        {
          "output_type": "stream",
          "name": "stdout",
          "text": [
            "Parent class\n",
            "Child class\n"
          ]
        }
      ]
    },
    {
      "cell_type": "markdown",
      "source": [
        "Ques.21 What is the significance of the __del__ method in Python?\n"
      ],
      "metadata": {
        "id": "dakljk2_eDf3"
      }
    },
    {
      "cell_type": "code",
      "source": [
        "class Demo:\n",
        "    def _del_(self):\n",
        "        print(\"Object is being destroyed\")\n",
        "\n",
        "obj = Demo()\n",
        "del obj"
      ],
      "metadata": {
        "id": "3dGJFez9jxeX"
      },
      "execution_count": 12,
      "outputs": []
    },
    {
      "cell_type": "markdown",
      "source": [
        "Ques.22 What is the difference between @staticmethod and @classmethod in Python?"
      ],
      "metadata": {
        "id": "40oixvK4j04e"
      }
    },
    {
      "cell_type": "markdown",
      "source": [
        "Ans: @staticmethod: Does not take self or cls; behaves like a regular function but inside a class.\n",
        "\n",
        "@classmethod: Takes cls as the first parameter; can modify class-level attributes.\n"
      ],
      "metadata": {
        "id": "eQDxAG0gkgUV"
      }
    },
    {
      "cell_type": "code",
      "source": [
        "class Demo:\n",
        "    @staticmethod\n",
        "    def stat():\n",
        "        print(\"Static method\")\n",
        "\n",
        "    @classmethod\n",
        "    def cls_method(cls):\n",
        "        print(f\"Class method from {cls}\")\n",
        "\n",
        "Demo.stat()\n",
        "Demo.cls_method()\n"
      ],
      "metadata": {
        "id": "T1fdsvJVkZPe"
      },
      "execution_count": null,
      "outputs": []
    },
    {
      "cell_type": "markdown",
      "source": [
        "Ques.23 How does polymorphism work in Python with inheritance?\n"
      ],
      "metadata": {
        "id": "6-5wB9EMlddw"
      }
    },
    {
      "cell_type": "markdown",
      "source": [
        "Ans: Polymorphism allows objects of different classes to be treated as instances of the same parent class, with methods behaving differently."
      ],
      "metadata": {
        "id": "XjmQuaYflurB"
      }
    },
    {
      "cell_type": "code",
      "source": [
        "class Animal:\n",
        "    def speak(self):\n",
        "        print(\"Animal speaks\")\n",
        "\n",
        "class Dog(Animal):\n",
        "    def speak(self):\n",
        "        print(\"Dog barks\")\n",
        "\n",
        "class Cat(Animal):\n",
        "    def speak(self):\n",
        "        print(\"Cat meows\")\n",
        "\n",
        "for animal in (Dog(), Cat()):\n",
        "    animal.speak()"
      ],
      "metadata": {
        "id": "8c4iowVQls5d"
      },
      "execution_count": null,
      "outputs": []
    },
    {
      "cell_type": "markdown",
      "source": [
        "Ques.24 What is method chaining in Python OOP?"
      ],
      "metadata": {
        "id": "ge-2jRUoms4d"
      }
    },
    {
      "cell_type": "markdown",
      "source": [
        "Ans: Method chaining allows multiple methods to be called on the same object in a single line by returning self in each method.\n"
      ],
      "metadata": {
        "id": "lMoJVe_unOqR"
      }
    },
    {
      "cell_type": "code",
      "source": [
        "class Chain:\n",
        "    def step1(self):\n",
        "        print(\"Step 1\")\n",
        "        return self\n",
        "\n",
        "    def step2(self):\n",
        "        print(\"Step 2\")\n",
        "        return self\n",
        "\n",
        "obj = Chain()\n",
        "obj.step1().step2()"
      ],
      "metadata": {
        "id": "Tnq0WOa7nlc4"
      },
      "execution_count": null,
      "outputs": []
    },
    {
      "cell_type": "markdown",
      "source": [
        "Ques.25 What is the purpose of the __call__ method in Python?"
      ],
      "metadata": {
        "id": "dJm9gQAYnrXT"
      }
    },
    {
      "cell_type": "markdown",
      "source": [
        "Ans: _call_ allows an object to be called like a function.\n",
        "\n"
      ],
      "metadata": {
        "id": "t8wTyM-qn3e5"
      }
    },
    {
      "cell_type": "code",
      "source": [
        "class Greet:\n",
        "    def _call_(self, name):\n",
        "        print(f\"Hello, {name}!\")\n",
        "\n",
        "obj =Greet()\n",
        "obj(\"Neha\")  # Now this will work"
      ],
      "metadata": {
        "id": "MLuZeAIHpfM-"
      },
      "execution_count": 22,
      "outputs": []
    },
    {
      "cell_type": "markdown",
      "source": [
        "PRACTICAL QUESTION....\n",
        "\n",
        "\n"
      ],
      "metadata": {
        "id": "ZfwQRT7frmmN"
      }
    },
    {
      "cell_type": "markdown",
      "source": [
        "Ques.1  Create a parent class Animal with a method speak() that prints a generic message. Create a child class Dog\n",
        "that overrides the speak() method to print \"Bark!\"?\n"
      ],
      "metadata": {
        "id": "Cq-QPybqo5wO"
      }
    },
    {
      "cell_type": "code",
      "source": [
        "class Animal:\n",
        "    def speak(self):\n",
        "        print(\"Animal speaks...\")\n",
        "\n",
        "class Dog(Animal):\n",
        "    def speak(self):\n",
        "        print(\"Bark!\")\n",
        "\n",
        "d = Dog()\n",
        "d.speak()  # Output: Bark!"
      ],
      "metadata": {
        "colab": {
          "base_uri": "https://localhost:8080/"
        },
        "id": "QWkszrVYpDSp",
        "outputId": "af2337df-60c2-4483-e7de-8a10f46137ff"
      },
      "execution_count": 1,
      "outputs": [
        {
          "output_type": "stream",
          "name": "stdout",
          "text": [
            "Bark!\n"
          ]
        }
      ]
    },
    {
      "cell_type": "markdown",
      "source": [
        "Ques.2  Write a program to create an abstract class Shape with a method area(). Derive classes Circle and Rectangle\n",
        "from it and implement the area() method in both?"
      ],
      "metadata": {
        "id": "r1MYWOjsp0dv"
      }
    },
    {
      "cell_type": "code",
      "source": [
        "from abc import ABC, abstractmethod\n",
        "\n",
        "class Shape(ABC):\n",
        "    @abstractmethod\n",
        "    def area(self):\n",
        "        pass\n",
        "\n",
        "class Circle(Shape):\n",
        "    def _init_(self, radius):\n",
        "        self.radius = radius\n",
        "\n",
        "    def area(self):\n",
        "        return 3.14 * self.radius ** 2\n",
        "\n",
        "class Rectangle(Shape):\n",
        "    def _init_(self, width, height):\n",
        "        self.width = width\n",
        "        self.height = height\n",
        "\n",
        "    def area(self):\n",
        "        return self.width * self.height\n",
        "\n",
        "c = Circle(5)\n",
        "r = Rectangle(4, 6)\n",
        "print(c.area())  # 78.5\n",
        "print(r.area())  # 24"
      ],
      "metadata": {
        "id": "HGcbttYsqdCq"
      },
      "execution_count": 4,
      "outputs": []
    },
    {
      "cell_type": "markdown",
      "source": [
        "Ques.3 Implement a multi-level inheritance scenario where a class Vehicle has an attribute type. Derive a class Car\n",
        "and further derive a class ElectricCar that adds a battery attribute?\n"
      ],
      "metadata": {
        "id": "7F7wj7Workrl"
      }
    },
    {
      "cell_type": "code",
      "source": [
        "class Vehicle:\n",
        "    def _init_(self, type):\n",
        "        self.type = type\n",
        "\n",
        "class Car(Vehicle):\n",
        "    def _init_(self, type, brand):\n",
        "        super()._init_(type)\n",
        "        self.brand = brand\n",
        "\n",
        "class ElectricCar(Car):\n",
        "    def _init_(self, type, brand, battery):\n",
        "        super()._init_(type, brand)\n",
        "        self.battery = battery\n",
        "\n",
        "e = ElectricCar(\"Electric\", \"Tesla\", \"100kWh\")\n",
        "print(e.type, e.brand, e.battery)  # Electric Tesla 100kWh"
      ],
      "metadata": {
        "id": "I0NfTL2Yru7x"
      },
      "execution_count": null,
      "outputs": []
    },
    {
      "cell_type": "markdown",
      "source": [
        "Ques.4  Demonstrate polymorphism by creating a base class Bird with a method fly(). Create two derived classes\n",
        "Sparrow and Penguin that override the fly() method?"
      ],
      "metadata": {
        "id": "H9Z0G6KSr4S6"
      }
    },
    {
      "cell_type": "code",
      "source": [
        "class Bird:\n",
        "    def fly(self):\n",
        "        print(\"Bird is flying\")\n",
        "\n",
        "class Sparrow(Bird):\n",
        "    def fly(self):\n",
        "        print(\"Sparrow flies fast\")\n",
        "\n",
        "class Penguin(Bird):\n",
        "    def fly(self):\n",
        "        print(\"Penguins can't fly\")\n",
        "\n",
        "s = Sparrow()\n",
        "p = Penguin()\n",
        "s.fly()  # Sparrow flies fast\n",
        "p.fly()  # Penguins can't fly"
      ],
      "metadata": {
        "id": "lRG36psCr_QB"
      },
      "execution_count": null,
      "outputs": []
    },
    {
      "cell_type": "markdown",
      "source": [
        "Ques.5 Write a program to demonstrate encapsulation by creating a class BankAccount with private attributes\n",
        "balance and methods to deposit, withdraw, and check balance?"
      ],
      "metadata": {
        "id": "3l2-Tnzjr-nc"
      }
    },
    {
      "cell_type": "code",
      "source": [
        "class BankAccount:\n",
        "    def _init_(self):\n",
        "        self.__balance = 0\n",
        "\n",
        "    def deposit(self, amount):\n",
        "        self.__balance += amount\n",
        "\n",
        "    def withdraw(self, amount):\n",
        "        if amount <= self.__balance:\n",
        "            self.__balance -= amount\n",
        "        else:\n",
        "            print(\"Insufficient balance\")\n",
        "\n",
        "    def check_balance(self):\n",
        "        return self.__balance\n",
        "\n",
        "acc = BankAccount()\n",
        "acc.deposit(1000)\n",
        "acc.withdraw(300)\n",
        "print(acc.check_balance())"
      ],
      "metadata": {
        "id": "mLol71F2sK8Z"
      },
      "execution_count": null,
      "outputs": []
    },
    {
      "cell_type": "markdown",
      "source": [
        "Ques.6  Demonstrate runtime polymorphism using a method play() in a base class Instrument. Derive classes Guitar\n",
        "and Piano that implement their own version of play()?"
      ],
      "metadata": {
        "id": "k3tUmb8QjlkZ"
      }
    },
    {
      "cell_type": "code",
      "source": [
        "class Instrument:\n",
        "    def play(self):\n",
        "        print(\"Playing instrument\")\n",
        "\n",
        "class Guitar(Instrument):\n",
        "    def play(self):\n",
        "        print(\"Strumming guitar\")\n",
        "\n",
        "class Piano(Instrument):\n",
        "    def play(self):\n",
        "        print(\"Playing piano\")\n",
        "\n",
        "i = [Guitar(), Piano()]\n",
        "for instr in i:\n",
        "    instr.play()"
      ],
      "metadata": {
        "id": "LC6lHZtEsan1"
      },
      "execution_count": null,
      "outputs": []
    },
    {
      "cell_type": "markdown",
      "source": [
        "Ques.7  Create a class MathOperations with a class method add_numbers() to add two numbers and a static\n",
        "method subtract_numbers() to subtract two numbers?"
      ],
      "metadata": {
        "id": "xK2dHWffsg-W"
      }
    },
    {
      "cell_type": "code",
      "source": [
        "class MathOperations:\n",
        "    def add_numbers(self, a, b):\n",
        "        return a + b\n",
        "\n",
        "    @staticmethod\n",
        "    def subtract_numbers(a, b):\n",
        "        return a - b\n",
        "\n",
        "m = MathOperations()\n",
        "print(m.add_numbers(4, 5))\n",
        "print(MathOperations.subtract_numbers(9, 3))"
      ],
      "metadata": {
        "id": "6TT0-incstw8"
      },
      "execution_count": null,
      "outputs": []
    },
    {
      "cell_type": "markdown",
      "source": [
        "Ques.8 Implement a class Person with a class method to count the total number of persons created?"
      ],
      "metadata": {
        "id": "8TjeDsAys4B5"
      }
    },
    {
      "cell_type": "code",
      "source": [
        "class Person:\n",
        "    count = 0\n",
        "\n",
        "    def _init_(self):\n",
        "        Person.count += 1\n",
        "\n",
        "    @classmethod\n",
        "    def total_persons(cls):\n",
        "        return cls.count\n",
        "\n",
        "p1 = Person()\n",
        "p2 = Person()\n",
        "print(Person.total_persons())"
      ],
      "metadata": {
        "id": "39sqzPKZs9XQ"
      },
      "execution_count": null,
      "outputs": []
    },
    {
      "cell_type": "markdown",
      "source": [
        "Ques.9 . Write a class Fraction with attributes numerator and denominator. Override the str method to display the\n",
        "fraction as \"numerator/denominator\"?\n"
      ],
      "metadata": {
        "id": "KXcFYvHHtOG-"
      }
    },
    {
      "cell_type": "code",
      "source": [
        "class Fraction:\n",
        "    def _init_(self, numerator, denominator):\n",
        "        self.numerator = numerator\n",
        "        self.denominator = denominator\n",
        "\n",
        "    def _str_(self):\n",
        "        return f\"{self.numerator}/{self.denominator}\"\n",
        "\n",
        "f = Fraction(3, 4)\n",
        "print(f)"
      ],
      "metadata": {
        "id": "I4UrX3yYtUj7"
      },
      "execution_count": null,
      "outputs": []
    },
    {
      "cell_type": "markdown",
      "source": [
        "Ques.10 . Demonstrate operator overloading by creating a class Vector and overriding the add method to add two\n",
        "vectors?\n"
      ],
      "metadata": {
        "id": "s8QjEQ7Stds-"
      }
    },
    {
      "cell_type": "code",
      "source": [
        "class Vector:\n",
        "    def _init_(self, x, y):\n",
        "        self.x = x\n",
        "        self.y = y\n",
        "\n",
        "    def _add_(self, other):\n",
        "        return Vector(self.x + other.x, self.y + other.y)\n",
        "\n",
        "    def _str_(self):\n",
        "        return f\"({self.x}, {self.y})\"\n",
        "\n",
        "v1 = Vector(1, 2)\n",
        "v2 = Vector(3, 4)\n",
        "v3 = v1 + v2\n",
        "print(v3)\n"
      ],
      "metadata": {
        "id": "fx_hPVxTtlJW"
      },
      "execution_count": null,
      "outputs": []
    },
    {
      "cell_type": "markdown",
      "source": [
        "Ques.11 Create a class Person with attributes name and age. Add a method greet() that prints \"Hello, my name is\n",
        "{name} and I am {age} years old.\"?"
      ],
      "metadata": {
        "id": "L9Ccuvc-trUP"
      }
    },
    {
      "cell_type": "code",
      "source": [
        "class Person:\n",
        "    def _init_(self, name, age):\n",
        "        self.name = name\n",
        "        self.age = age\n",
        "\n",
        "    def greet(self):\n",
        "        print(f\"Hello, my name is {self.name} and I am {self.age} years old.\")\n",
        "\n",
        "p = Person(\"Neha\", 25)\n",
        "p.greet()"
      ],
      "metadata": {
        "id": "AoSPoQdmt2pE"
      },
      "execution_count": null,
      "outputs": []
    },
    {
      "cell_type": "markdown",
      "source": [
        "Ques.12  Implement a class Student with attributes name and grades. Create a method average_grade() to compute\n",
        "the average of the grades?"
      ],
      "metadata": {
        "id": "IU_3XxkcuigU"
      }
    },
    {
      "cell_type": "code",
      "source": [
        "class Student:\n",
        "    def _init_(self, name, grades):\n",
        "        self.name = name\n",
        "        self.grades = grades\n",
        "\n",
        "    def average_grade(self):\n",
        "        return sum(self.grades) / len(self.grades)\n",
        "\n",
        "s = Student(\"Rahul\", [80, 90, 70])\n",
        "print(s.average_grade())  # 80.0"
      ],
      "metadata": {
        "id": "OYYUe3cBuuhj"
      },
      "execution_count": null,
      "outputs": []
    },
    {
      "cell_type": "markdown",
      "source": [
        "Ques.13 Create a class Rectangle with methods set_dimensions() to set the dimensions and area() to calculate the\n",
        "area?"
      ],
      "metadata": {
        "id": "GgMtTQEMut5d"
      }
    },
    {
      "cell_type": "code",
      "source": [
        "class Rectangle:\n",
        "    def set_dimensions(self, width, height):\n",
        "        self.width = width\n",
        "        self.height = height\n",
        "\n",
        "    def area(self):\n",
        "        return self.width * self.height\n",
        "\n",
        "r = Rectangle()\n",
        "r.set_dimensions(4, 6)\n",
        "print(r.area())  # 24"
      ],
      "metadata": {
        "id": "9HJtLfsyu5eo"
      },
      "execution_count": null,
      "outputs": []
    },
    {
      "cell_type": "markdown",
      "source": [
        "Ques.14  Create a class Employee with a method calculate_salary() that computes the salary based on hours worked\n",
        "and hourly rate. Create a derived class Manager that adds a bonus to the salary?\n"
      ],
      "metadata": {
        "id": "drOgpIK2vAv_"
      }
    },
    {
      "cell_type": "code",
      "source": [
        "# Base class: Employee\n",
        "class Employee:\n",
        "    def _init_(self, name, hours_worked, hourly_rate):\n",
        "        self.name = name\n",
        "        self.hours_worked = hours_worked\n",
        "        self.hourly_rate = hourly_rate\n",
        "\n",
        "    def calculate_salary(self):\n",
        "        return self.hours_worked * self.hourly_rate\n",
        "\n",
        "# Derived class: Manager\n",
        "class Manager(Employee):\n",
        "    def _init_(self, name, hours_worked, hourly_rate, bonus):\n",
        "        super()._init_(name, hours_worked, hourly_rate)\n",
        "        self.bonus = bonus\n",
        "\n",
        "    def calculate_salary(self):\n",
        "        base_salary = super().calculate_salary()\n",
        "        return base_salary + self.bonus\n",
        "\n",
        "# Example Usage:\n",
        "e1 = Employee(\"Alice\", 40, 300)\n",
        "print(f\"Employee Salary: ₹{e1.calculate_salary()}\")\n",
        "\n",
        "m1 = Manager(\"Bob\", 40, 400, 5000)\n",
        "print(f\"Manager Salary: ₹{m1.calculate_salary()}\")"
      ],
      "metadata": {
        "id": "K41Wrqj1ytc1"
      },
      "execution_count": null,
      "outputs": []
    },
    {
      "cell_type": "markdown",
      "source": [
        "Ques.15 . Create a class Product with attributes name, price, and quantity. Implement a method total_price() that\n",
        "calculates the total price of the product?"
      ],
      "metadata": {
        "id": "1hV3-1VqvIYQ"
      }
    },
    {
      "cell_type": "code",
      "source": [
        "class Rectangle:\n",
        "    def set_dimensions(self, width, height):\n",
        "        self.width = width\n",
        "        self.height = height\n",
        "\n",
        "    def area(self):\n",
        "        return self.width * self.height\n",
        "\n",
        "r = Rectangle()\n",
        "r.set_dimensions(4, 6)\n",
        "print(r.area())  # 24"
      ],
      "metadata": {
        "id": "3YgrmcR-vObj"
      },
      "execution_count": null,
      "outputs": []
    },
    {
      "cell_type": "markdown",
      "source": [
        "Ques.16 Create a class Animal with an abstract method sound(). Create two derived classes Cow and Sheep that\n",
        "implement the sound() method?"
      ],
      "metadata": {
        "id": "RNljQxUUvO-t"
      }
    },
    {
      "cell_type": "code",
      "source": [
        "from abc import ABC, abstractmethod\n",
        "\n",
        "class Animal(ABC):\n",
        "    @abstractmethod\n",
        "    def sound(self):\n",
        "        pass\n",
        "\n",
        "class Cow(Animal):\n",
        "    def sound(self):\n",
        "        return \"Moo\"\n",
        "\n",
        "class Sheep(Animal):\n",
        "    def sound(self):\n",
        "        return \"Baa\"\n",
        "\n",
        "# Example:\n",
        "cow = Cow()\n",
        "sheep = Sheep()\n",
        "print(\"Cow:\", cow.sound())\n",
        "print(\"Sheep:\", sheep.sound())"
      ],
      "metadata": {
        "id": "c-CJ7OwDvTOU"
      },
      "execution_count": null,
      "outputs": []
    },
    {
      "cell_type": "markdown",
      "source": [
        "Ques.17  Create a class Book with attributes title, author, and year_published. Add a method get_book_info() that\n",
        "returns a formatted string with the book's detail?"
      ],
      "metadata": {
        "id": "WRCo-8VMvTrs"
      }
    },
    {
      "cell_type": "code",
      "source": [
        "class Book:\n",
        "    def _init_(self, title, author, year_published):\n",
        "        self.title = title\n",
        "        self.author = author\n",
        "        self.year_published = year_published\n",
        "\n",
        "    def get_book_info(self):\n",
        "        return f\"'{self.title}' by {self.author}, published in {self.year_published}\"\n",
        "\n",
        "# Example:\n",
        "b = Book(\"The Alchemist\", \"Paulo Coelho\", 1988)\n",
        "print(b.get_book_info())"
      ],
      "metadata": {
        "id": "ZWNwAa_4vYKT"
      },
      "execution_count": null,
      "outputs": []
    },
    {
      "cell_type": "markdown",
      "source": [
        "Ques.18  Create a class House with attributes address and price. Create a derived class Mansion that adds an\n",
        "attribute number_of_rooms?"
      ],
      "metadata": {
        "id": "FU2gsKFgvYtT"
      }
    },
    {
      "cell_type": "code",
      "source": [
        "class House:\n",
        "    def _init_(self, address, price):\n",
        "        self.address = address\n",
        "        self.price = price\n",
        "\n",
        "class Mansion(House):\n",
        "    def _init_(self, address, price, number_of_rooms):\n",
        "        super()._init_(address, price)\n",
        "        self.number_of_rooms = number_of_rooms\n",
        "\n",
        "# Example:\n",
        "m = Mansion(\"123 Luxury Street\", 20000000, 10)\n",
        "print(\"Address:\", m.address)\n",
        "print(\"Price:\", m.price)\n",
        "print(\"Rooms:\", m.number_of_rooms)"
      ],
      "metadata": {
        "id": "cSsSC_fRvczj"
      },
      "execution_count": null,
      "outputs": []
    }
  ]
}