{
  "nbformat": 4,
  "nbformat_minor": 0,
  "metadata": {
    "colab": {
      "provenance": []
    },
    "kernelspec": {
      "name": "python3",
      "display_name": "Python 3"
    },
    "language_info": {
      "name": "python"
    }
  },
  "cells": [
    {
      "cell_type": "markdown",
      "source": [
        "Theory  Questions:\n"
      ],
      "metadata": {
        "id": "5uzKLkN0xpPU"
      }
    },
    {
      "cell_type": "markdown",
      "source": [
        "Ques.1 What is the difference between a function and a method in Python?\n",
        "\n",
        "Ans:  Function: A block of code that performs a specific task and is not bound to an object.\n",
        "\n",
        "Method: A function that is associated with an object and is called using the dot (.) notation."
      ],
      "metadata": {
        "id": "EgJX-RgayKoQ"
      }
    },
    {
      "cell_type": "markdown",
      "source": [
        "Ques.2  Explain the concept of function arguments and parameters in Python?\n",
        "\n",
        "Ans: Parameter: Variable listed inside the parentheses in the function definition.\n",
        "\n",
        "Argument: The value that is passed to the function when calling it.\n",
        "\n"
      ],
      "metadata": {
        "id": "BGVdEb1ly-GD"
      }
    },
    {
      "cell_type": "markdown",
      "source": [
        "Ques.3  What are the different ways to define and call a function in Python?\n",
        "\n",
        "Ans: Standard function using def:\n",
        "\n",
        "\n",
        "def say_hello():\n",
        "    print(\"Hello!\")\n",
        "say_hello()\n",
        "\n",
        "Lambda function (anonymous):\n",
        "\n",
        "\n",
        "greet = lambda name: f\"Hello, {name}\""
      ],
      "metadata": {
        "id": "eeFqNUhtzS97"
      }
    },
    {
      "cell_type": "markdown",
      "source": [
        "Ques.4 What is the purpose of the `return` statement in a Python function?\n",
        "\n",
        "Ans: It ends the function and sends back a result to the caller.\n",
        "\n",
        "Without return, a function returns None.\n",
        "\n",
        "\n",
        "Example:\n",
        "\n",
        "def square(n):\n",
        "    return n * n\n",
        "\n",
        "result = square(4)  # result is 16"
      ],
      "metadata": {
        "id": "qXLt2mtkzmgw"
      }
    },
    {
      "cell_type": "markdown",
      "source": [
        "Ques.5  What are iterators in Python and how do they differ from iterables?\n",
        "\n",
        "Ans: Iterable: An object you can loop over (e.g., list, tuple).\n",
        "\n",
        "Iterator: An object with a _next_() method that gives the next item.\n",
        "\n",
        "\n",
        "Example:\n",
        "\n",
        "nums = [1, 2, 3]\n",
        "it = iter(nums)  # creates an iterator\n",
        "print(next(it))  # outputs 1"
      ],
      "metadata": {
        "id": "HUdosFU1z2mq"
      }
    },
    {
      "cell_type": "markdown",
      "source": [
        "Ques.6 . Explain the concept of generators in Python and how they are defined?\n",
        "\n",
        "Ans: Generators allow you to iterate over data without storing it all in memory.\n",
        "\n",
        "Defined using the yield keyword instead of return.\n",
        "\n",
        "\n",
        "Example:\n",
        "\n",
        "def count_up_to(n):\n",
        "    i = 1\n",
        "    while i <= n:\n",
        "        yield i\n",
        "        i += 1\n",
        "\n",
        "gen = count_up_to(3)\n",
        "print(next(gen))  # 1"
      ],
      "metadata": {
        "id": "FNAq3Phf0EuL"
      }
    },
    {
      "cell_type": "markdown",
      "source": [
        "Ques.7  What are the advantages of using generators over regular functions?\n",
        "\n",
        "Ans: Memory efficient (generates one value at a time).\n",
        "\n",
        "Faster for large data.\n",
        "\n",
        "Pause and resume execution with yield."
      ],
      "metadata": {
        "id": "fKvPvzCp0XdG"
      }
    },
    {
      "cell_type": "markdown",
      "source": [
        "Ques.8  What is a lambda function in Python and when is it typically used?\n",
        "\n",
        "Ans: A small anonymous function defined using lambda.\n",
        "\n",
        "Used for short, simple operations.\n",
        "\n",
        "\n",
        "Example:\n",
        "\n",
        "square = lambda x: x * x\n",
        "print"
      ],
      "metadata": {
        "id": "HKgissDc0qQv"
      }
    },
    {
      "cell_type": "markdown",
      "source": [
        "Ques.9  Explain the purpose and usage of the `map()` function in Python?\n",
        "\n",
        "Ans: Applies a function to every item in an iterable and returns a new iterable (map object).\n"
      ],
      "metadata": {
        "id": "JLmQXR3o067O"
      }
    },
    {
      "cell_type": "code",
      "source": [
        "\n",
        "\n",
        "nums = [1, 2, 3]\n",
        "squares = list(map(lambda x: x*x, nums))\n",
        "print(squares)  # [1, 4, 9]"
      ],
      "metadata": {
        "colab": {
          "base_uri": "https://localhost:8080/"
        },
        "id": "dbSG9LPI0EIJ",
        "outputId": "5ccf10b0-9c18-42d0-cd87-ad106401e98b"
      },
      "execution_count": 2,
      "outputs": [
        {
          "output_type": "stream",
          "name": "stdout",
          "text": [
            "[1, 4, 9]\n"
          ]
        }
      ]
    },
    {
      "cell_type": "markdown",
      "source": [
        "Ques. 10 What is the difference between `map()`, `reduce()`, and `filter()` functions in Python?\n",
        "\n",
        "Ans: Function\tPurpose\tOutput\n",
        "\n",
        "map()\tApplies function to each item\tTransformed iterable\n",
        "filter()\tKeeps items where function is True\tFiltered iterable\n",
        "reduce()\tRepeatedly applies function to reduce to single value\tSingle value (e.g., sum)"
      ],
      "metadata": {
        "id": "GT9E8Jg8yWaW"
      }
    },
    {
      "cell_type": "markdown",
      "source": [
        "Ques.11 Using pen & Paper write the internal mechanism for sum operation using  reduce function on this given\n",
        "list:[47,11,42,13]?\n",
        "\n",
        "Ans:"
      ],
      "metadata": {
        "id": "I9yEV6OT1rpV"
      }
    },
    {
      "cell_type": "code",
      "source": [],
      "metadata": {
        "id": "JpHd_NaZ2yG1"
      },
      "execution_count": null,
      "outputs": []
    },
    {
      "cell_type": "markdown",
      "source": [
        "PRACTICAL QUESTIONS::"
      ],
      "metadata": {
        "id": "lP0XS-f43HWR"
      }
    },
    {
      "cell_type": "markdown",
      "source": [
        "Ques.1  Write a Python function that takes a list of numbers as input and returns the sum of all even numbers in\n",
        "the list?\n",
        "\n"
      ],
      "metadata": {
        "id": "l_FJWljQ3Mvq"
      }
    },
    {
      "cell_type": "code",
      "source": [
        "def sum_even_numbers(numbers):\n",
        "    return sum(num for num in numbers if num % 2 == 0)\n",
        "\n",
        "# Example\n",
        "print(sum_even_numbers([1, 2, 3, 4, 5, 6]))  # Output: 12"
      ],
      "metadata": {
        "colab": {
          "base_uri": "https://localhost:8080/"
        },
        "id": "vnW7Fw-B3b6n",
        "outputId": "be62420d-4d28-4f17-80ca-d9d11a61a00e"
      },
      "execution_count": 5,
      "outputs": [
        {
          "output_type": "stream",
          "name": "stdout",
          "text": [
            "12\n"
          ]
        }
      ]
    },
    {
      "cell_type": "markdown",
      "source": [
        "Ques.2 . Create a Python function that accepts a string and returns the reverse of that string."
      ],
      "metadata": {
        "id": "iOauUsgo4J1K"
      }
    },
    {
      "cell_type": "code",
      "source": [
        "def reverse_string(s):\n",
        "    return s[::-1]\n",
        "\n",
        "# Example\n",
        "print(reverse_string(\"hello\"))  # Output: \"olleh\""
      ],
      "metadata": {
        "colab": {
          "base_uri": "https://localhost:8080/"
        },
        "id": "3Dr0Mmsv4R3h",
        "outputId": "118376e8-4810-424b-8c56-54b430823624"
      },
      "execution_count": 6,
      "outputs": [
        {
          "output_type": "stream",
          "name": "stdout",
          "text": [
            "olleh\n"
          ]
        }
      ]
    },
    {
      "cell_type": "markdown",
      "source": [
        "Ques.3  Implement a Python function that takes a list of integers and returns a new list containing the squares of\n",
        "each number?"
      ],
      "metadata": {
        "id": "ofGOxl2G4SN7"
      }
    },
    {
      "cell_type": "code",
      "source": [
        "def square_list(lst):\n",
        "    return [x**2 for x in lst]\n",
        "\n",
        "# Example\n",
        "print(square_list([1, 2, 3, 4]))  # Output: [1, 4, 9, 16]"
      ],
      "metadata": {
        "colab": {
          "base_uri": "https://localhost:8080/"
        },
        "id": "hexxowRM4VHy",
        "outputId": "0a8ce761-c8b1-4883-d2f7-e91a5e76f7b6"
      },
      "execution_count": 7,
      "outputs": [
        {
          "output_type": "stream",
          "name": "stdout",
          "text": [
            "[1, 4, 9, 16]\n"
          ]
        }
      ]
    },
    {
      "cell_type": "markdown",
      "source": [
        "Ques.4 Write a Python function that checks if a given number is prime or not from 1 to 200."
      ],
      "metadata": {
        "id": "V5fh4CWa4Ve8"
      }
    },
    {
      "cell_type": "code",
      "source": [
        "def is_prime(n):\n",
        "    if n <= 1:\n",
        "        return False\n",
        "    for i in range(2, int(n**0.5)+1):\n",
        "        if n % i == 0:\n",
        "            return False\n",
        "    return True\n",
        "\n",
        "# Example\n",
        "primes = [n for n in range(1, 201) if is_prime(n)]\n",
        "print(primes)"
      ],
      "metadata": {
        "colab": {
          "base_uri": "https://localhost:8080/"
        },
        "id": "N0vXKveQ4XiV",
        "outputId": "e0b49895-d260-4995-fbf8-9ade27ced1f1"
      },
      "execution_count": 8,
      "outputs": [
        {
          "output_type": "stream",
          "name": "stdout",
          "text": [
            "[2, 3, 5, 7, 11, 13, 17, 19, 23, 29, 31, 37, 41, 43, 47, 53, 59, 61, 67, 71, 73, 79, 83, 89, 97, 101, 103, 107, 109, 113, 127, 131, 137, 139, 149, 151, 157, 163, 167, 173, 179, 181, 191, 193, 197, 199]\n"
          ]
        }
      ]
    },
    {
      "cell_type": "markdown",
      "source": [
        "Ques.5 Create an iterator class in Python that generates the Fibonacci sequence up to a specified number of\n",
        "terms."
      ],
      "metadata": {
        "id": "YmDjw3Vu4YB_"
      }
    },
    {
      "cell_type": "code",
      "source": [
        "class FibonacciIterator:\n",
        "    def __init__(self, max_terms):\n",
        "        self.a, self.b = 0, 1\n",
        "        self.count = 0\n",
        "        self.max_terms = max_terms\n",
        "\n",
        "    def __iter__(self):\n",
        "        return self\n",
        "\n",
        "    def __next__(self):\n",
        "        if self.count >= self.max_terms:\n",
        "            raise StopIteration\n",
        "        self.count += 1\n",
        "        result = self.a\n",
        "        self.a, self.b = self.b, self.a + self.b\n",
        "        return result\n",
        "\n",
        "# Example\n",
        "for num in FibonacciIterator(7):\n",
        "    print(num, end=\" \")"
      ],
      "metadata": {
        "colab": {
          "base_uri": "https://localhost:8080/"
        },
        "id": "crAfQapn6sY-",
        "outputId": "c6208782-effd-4e51-f6d5-ede3e872b867"
      },
      "execution_count": 18,
      "outputs": [
        {
          "output_type": "stream",
          "name": "stdout",
          "text": [
            "0 1 1 2 3 5 8 "
          ]
        }
      ]
    },
    {
      "cell_type": "markdown",
      "source": [
        "Ques.6  Write a generator function in Python that yields the powers of 2 up to a given exponent."
      ],
      "metadata": {
        "id": "Hvtfmi904Zxk"
      }
    },
    {
      "cell_type": "code",
      "source": [
        "def powers_of_two(n):\n",
        "    for i in range(n+1):\n",
        "        yield 2 ** i\n",
        "\n",
        "# Example\n",
        "print(list(powers_of_two(5)))  # Output: [1, 2, 4, 8, 16, 32]"
      ],
      "metadata": {
        "colab": {
          "base_uri": "https://localhost:8080/"
        },
        "id": "fqBe4_BI4d05",
        "outputId": "bb3fee56-10a9-432a-cd5e-307f4d2e4c25"
      },
      "execution_count": 10,
      "outputs": [
        {
          "output_type": "stream",
          "name": "stdout",
          "text": [
            "[1, 2, 4, 8, 16, 32]\n"
          ]
        }
      ]
    },
    {
      "cell_type": "markdown",
      "source": [
        "Ques.7  Implement a generator function that reads a file line by line and yields each line as a string."
      ],
      "metadata": {
        "id": "vYpL6mQz4Jxp"
      }
    },
    {
      "cell_type": "code",
      "source": [
        "def read_file_lines(filename):\n",
        "    with open(filename, 'r') as file:\n",
        "        for line in file:\n",
        "            yield line.strip()\n",
        "\n",
        "# Example\n",
        "# Save a file \"sample.txt\" with some lines and test:\n",
        "# for line in read_file_lines(\"sample.txt\"):\n",
        "#     print(line)"
      ],
      "metadata": {
        "id": "Kjacc20f4gTs"
      },
      "execution_count": 11,
      "outputs": []
    },
    {
      "cell_type": "markdown",
      "source": [
        "Ques.8 Use a lambda function in Python to sort a list of tuples based on the second element of each tuple.\n"
      ],
      "metadata": {
        "id": "gmRlgfOF4hAM"
      }
    },
    {
      "cell_type": "code",
      "source": [
        "celsius = [0, 10, 20, 30]\n",
        "fahrenheit = list(map(lambda c: (c * 9/5) + 32, celsius))\n",
        "print(fahrenheit)  # Output: [32.0, 50.0, 68.0, 86.0]"
      ],
      "metadata": {
        "colab": {
          "base_uri": "https://localhost:8080/"
        },
        "id": "ZuQAJK6z4j1I",
        "outputId": "a5a3a686-d25f-4a06-9a91-7657b17d898c"
      },
      "execution_count": 12,
      "outputs": [
        {
          "output_type": "stream",
          "name": "stdout",
          "text": [
            "[32.0, 50.0, 68.0, 86.0]\n"
          ]
        }
      ]
    },
    {
      "cell_type": "markdown",
      "source": [
        "Ques.9 Write a Python program that uses `map()` to convert a list of temperatures from Celsius to Fahrenheit."
      ],
      "metadata": {
        "id": "mWlwxJeW4mrN"
      }
    },
    {
      "cell_type": "code",
      "source": [
        "celsius = [0, 10, 20, 30]\n",
        "fahrenheit = list(map(lambda c: (c * 9/5) + 32, celsius))\n",
        "print(fahrenheit)  # Output: [32.0, 50.0, 68.0, 86.0]"
      ],
      "metadata": {
        "id": "eWOkKHQ-4l8t"
      },
      "execution_count": null,
      "outputs": []
    },
    {
      "cell_type": "markdown",
      "source": [
        "Ques.10  Create a Python program that uses `filter()` to remove all the vowels from a given string?"
      ],
      "metadata": {
        "id": "2qWcCaSP4o8h"
      }
    },
    {
      "cell_type": "code",
      "source": [
        "def remove_vowels(s):\n",
        "    vowels = \"aeiouAEIOU\"\n",
        "    return ''.join(filter(lambda x: x not in vowels, s))\n",
        "\n",
        "# Example\n",
        "print(remove_vowels(\"Beautiful Day\"))  # Output: \"Btfl Dy\""
      ],
      "metadata": {
        "colab": {
          "base_uri": "https://localhost:8080/"
        },
        "id": "sWMMDh9P4sJg",
        "outputId": "bc64cbee-0278-4a50-d92b-98d83608f8e7"
      },
      "execution_count": 13,
      "outputs": [
        {
          "output_type": "stream",
          "name": "stdout",
          "text": [
            "Btfl Dy\n"
          ]
        }
      ]
    },
    {
      "cell_type": "markdown",
      "source": [
        "Ques.11 Write a Python program, which returns a list with 2-tuples. Each tuple consists of the order number and the\n",
        "product of the price per item and the quantity. The product should be increased by 10,- € if the value of the\n",
        "order is smaller than 100,00 €"
      ],
      "metadata": {
        "id": "vikJcJuR7z3L"
      }
    },
    {
      "cell_type": "code",
      "source": [
        "orders = [\n",
        "    [34587, \"Learning Python, Mark Lutz\", 4, 40.95],\n",
        "    [98762, \"Programming Python, Mark Lutz\", 5, 56.80],\n",
        "    [77226, \"Head First Python, Paul Barry\", 3, 32.95],\n",
        "    [88112, \"Einführung in Python3, Bernd Klein\", 3, 24.99]\n",
        "]\n",
        "\n",
        "# Using map and lambda\n",
        "result = list(map(lambda order:\n",
        "    (order[0], order[2] * order[3] + 10 if order[2] * order[3] < 100 else order[2] * order[3]),\n",
        "    orders))\n",
        "\n",
        "# Output the result\n",
        "print(result)"
      ],
      "metadata": {
        "colab": {
          "base_uri": "https://localhost:8080/"
        },
        "id": "nX8_cfyF6Sl4",
        "outputId": "1b9a6d09-7635-4b1b-ff69-10110fb9514a"
      },
      "execution_count": 19,
      "outputs": [
        {
          "output_type": "stream",
          "name": "stdout",
          "text": [
            "[(34587, 163.8), (98762, 284.0), (77226, 108.85000000000001), (88112, 84.97)]\n"
          ]
        }
      ]
    },
    {
      "cell_type": "code",
      "source": [],
      "metadata": {
        "id": "RLF-2Pty7xaY"
      },
      "execution_count": null,
      "outputs": []
    }
  ]
}